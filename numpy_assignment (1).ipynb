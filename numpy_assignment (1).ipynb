{
 "cells": [
  {
   "cell_type": "code",
   "execution_count": null,
   "metadata": {
    "id": "mWOjJhpo2K-y"
   },
   "outputs": [],
   "source": [
    "import numpy as np"
   ]
  },
  {
   "cell_type": "markdown",
   "metadata": {
    "id": "9zR4fcQyXmlL"
   },
   "source": [
    "# Q.1 create a numpy array 'arr' of integers from 0 to 5 and print its data type."
   ]
  },
  {
   "cell_type": "code",
   "execution_count": null,
   "metadata": {
    "colab": {
     "base_uri": "https://localhost:8080/"
    },
    "executionInfo": {
     "elapsed": 6,
     "status": "ok",
     "timestamp": 1719905662963,
     "user": {
      "displayName": "Dhruv Gupta",
      "userId": "01321120305062122218"
     },
     "user_tz": -330
    },
    "id": "awyvNNLb2X1t",
    "outputId": "f3b80080-cec9-467c-f7b1-e0c160b8d4de"
   },
   "outputs": [
    {
     "name": "stdout",
     "output_type": "stream",
     "text": [
      "int64\n"
     ]
    }
   ],
   "source": [
    "\n",
    "arr=np.array([0,1,2,3,4,5])\n",
    "print(arr.dtype)\n",
    "\n"
   ]
  },
  {
   "cell_type": "markdown",
   "metadata": {
    "id": "jvtOcy0zYAkR"
   },
   "source": [
    "# Q.2 Given a numpy array 'arr' ,check if its data type is float64"
   ]
  },
  {
   "cell_type": "code",
   "execution_count": null,
   "metadata": {
    "colab": {
     "base_uri": "https://localhost:8080/"
    },
    "executionInfo": {
     "elapsed": 465,
     "status": "ok",
     "timestamp": 1720312311647,
     "user": {
      "displayName": "Dhruv Gupta",
      "userId": "01321120305062122218"
     },
     "user_tz": -330
    },
    "id": "-Gexd5i43JjE",
    "outputId": "24f7bfdb-61dd-4523-8f67-54350c7f1f55"
   },
   "outputs": [
    {
     "name": "stdout",
     "output_type": "stream",
     "text": [
      "True\n"
     ]
    }
   ],
   "source": [
    "\n",
    "arr=np.array([1.5,2.6,3.9])\n",
    "if arr.dtype==np.float64:\n",
    "  print(True)\n",
    "else:\n",
    "  print(False)\n"
   ]
  },
  {
   "cell_type": "markdown",
   "metadata": {
    "id": "f8dIEWxpYFwp"
   },
   "source": [
    "# Q.3 create a numpy array 'arr' with a data type of complex128 containing three complex numbers"
   ]
  },
  {
   "cell_type": "code",
   "execution_count": null,
   "metadata": {
    "colab": {
     "base_uri": "https://localhost:8080/"
    },
    "executionInfo": {
     "elapsed": 679,
     "status": "ok",
     "timestamp": 1719898694265,
     "user": {
      "displayName": "Dhruv Gupta",
      "userId": "01321120305062122218"
     },
     "user_tz": -330
    },
    "id": "EIAJu92v4LfU",
    "outputId": "5ca25acb-9657-4940-e111-0ef7caeef20e"
   },
   "outputs": [
    {
     "data": {
      "text/plain": [
       "array([2.+3.j, 8.+8.j, 5.+8.j])"
      ]
     },
     "execution_count": 32,
     "metadata": {},
     "output_type": "execute_result"
    }
   ],
   "source": [
    "\n",
    "arr=np.array([2+3j,8+8j,5+8j],dtype=np.complex128)\n",
    "arr"
   ]
  },
  {
   "cell_type": "markdown",
   "metadata": {
    "id": "xOp7HlFR9GK8"
   },
   "source": [
    "# Q.4 Convert  an existing numpy array 'arr' of integers to float32 data type"
   ]
  },
  {
   "cell_type": "code",
   "execution_count": null,
   "metadata": {
    "colab": {
     "base_uri": "https://localhost:8080/"
    },
    "executionInfo": {
     "elapsed": 3,
     "status": "ok",
     "timestamp": 1719899901512,
     "user": {
      "displayName": "Dhruv Gupta",
      "userId": "01321120305062122218"
     },
     "user_tz": -330
    },
    "id": "zVioQ7iu8NDU",
    "outputId": "e04900be-c18e-444f-854d-ee4f4cb1c1e5"
   },
   "outputs": [
    {
     "data": {
      "text/plain": [
       "array([1., 7., 8., 4.], dtype=float32)"
      ]
     },
     "execution_count": 51,
     "metadata": {},
     "output_type": "execute_result"
    }
   ],
   "source": [
    "arr=np.array([1,7,8,4])\n",
    "arr1=np.float32(arr)\n",
    "arr1"
   ]
  },
  {
   "cell_type": "markdown",
   "metadata": {
    "id": "F7UbDZ98_TH1"
   },
   "source": [
    "# Q.5 Given a numpy array 'arr' with float64 datatype, covert it to float32 to reduce decimal precision"
   ]
  },
  {
   "cell_type": "code",
   "execution_count": null,
   "metadata": {
    "colab": {
     "base_uri": "https://localhost:8080/"
    },
    "executionInfo": {
     "elapsed": 474,
     "status": "ok",
     "timestamp": 1719900014678,
     "user": {
      "displayName": "Dhruv Gupta",
      "userId": "01321120305062122218"
     },
     "user_tz": -330
    },
    "id": "hwnZNmDm9Adp",
    "outputId": "8a8ab6eb-291b-4e01-a898-5102006f7640"
   },
   "outputs": [
    {
     "data": {
      "text/plain": [
       "array([2.556789, 7.983452, 3.686789], dtype=float32)"
      ]
     },
     "execution_count": 55,
     "metadata": {},
     "output_type": "execute_result"
    }
   ],
   "source": [
    "arr=np.array([2.556789001,7.983452005,3.686789003],dtype=np.float64)\n",
    "arr1=np.float32(arr)\n",
    "arr1"
   ]
  },
  {
   "cell_type": "markdown",
   "metadata": {
    "id": "Xv50bTjvB5t1"
   },
   "source": [
    "# Q.6 write a function array_attributes that takes a numpy array as input and return its shape,size,and data type"
   ]
  },
  {
   "cell_type": "code",
   "execution_count": null,
   "metadata": {
    "colab": {
     "base_uri": "https://localhost:8080/"
    },
    "executionInfo": {
     "elapsed": 607,
     "status": "ok",
     "timestamp": 1720312489882,
     "user": {
      "displayName": "Dhruv Gupta",
      "userId": "01321120305062122218"
     },
     "user_tz": -330
    },
    "id": "uy17tdEV_7Gf",
    "outputId": "a8b8e29b-740b-4718-98e5-c2bf9d456995"
   },
   "outputs": [
    {
     "name": "stdout",
     "output_type": "stream",
     "text": [
      "the shape of  array is  (4,)\n",
      "the size of  array is  4\n",
      "the type of  array is   int64\n"
     ]
    }
   ],
   "source": [
    "def array_attributes(a):\n",
    "\n",
    "  print('the shape of  array is ',a.shape)\n",
    "  print('the size of  array is ',a.size)\n",
    "  print('the type of  array is  ',a.dtype)\n",
    "\n",
    "result=np.array([1,2,3,4])\n",
    "array_attributes(result)"
   ]
  },
  {
   "cell_type": "markdown",
   "metadata": {
    "id": "pZJmSi5BFFdm"
   },
   "source": [
    "# Q.7 create a function array_dimension that takes a numpy array as input and return its dimensionally\n"
   ]
  },
  {
   "cell_type": "code",
   "execution_count": null,
   "metadata": {
    "colab": {
     "base_uri": "https://localhost:8080/"
    },
    "executionInfo": {
     "elapsed": 508,
     "status": "ok",
     "timestamp": 1719906523362,
     "user": {
      "displayName": "Dhruv Gupta",
      "userId": "01321120305062122218"
     },
     "user_tz": -330
    },
    "id": "EvYMdwXwDRTt",
    "outputId": "cfbe54e3-c760-4f08-a9f2-e64ba7b1765c"
   },
   "outputs": [
    {
     "name": "stdout",
     "output_type": "stream",
     "text": [
      "[[1 2 3 4 5]\n",
      " [7 8 9 0 8]]\n",
      "the dimension of this array is 2\n"
     ]
    }
   ],
   "source": [
    "def array_dimension(a):\n",
    "\n",
    "  return a.ndim\n",
    "result=np.array([[1,2,3,4,5],\n",
    "                [7,8,9,0,8]])\n",
    "array_dimension(result)\n",
    "print(result)\n",
    "print('the dimension of this array is',array_dimension(result))"
   ]
  },
  {
   "cell_type": "markdown",
   "metadata": {
    "id": "BZ-zKkcqLZlU"
   },
   "source": [
    "# Q.8 design a function item_size_info that takes a numpy array as input and returns the item size and the total sizes in bytes"
   ]
  },
  {
   "cell_type": "code",
   "execution_count": null,
   "metadata": {
    "colab": {
     "base_uri": "https://localhost:8080/"
    },
    "executionInfo": {
     "elapsed": 473,
     "status": "ok",
     "timestamp": 1719903054842,
     "user": {
      "displayName": "Dhruv Gupta",
      "userId": "01321120305062122218"
     },
     "user_tz": -330
    },
    "id": "pAv2D0qGLN0L",
    "outputId": "16c67aa6-badd-4113-b3c3-1511adb26c5b"
   },
   "outputs": [
    {
     "name": "stdout",
     "output_type": "stream",
     "text": [
      "the item size is 8\n",
      "the total sizes in bytes 32\n"
     ]
    }
   ],
   "source": [
    "def item_size_info(a):\n",
    "  print('the item size is',a.itemsize)#item size>> memory occupied by each element of array\n",
    "  print('the total sizes in bytes',a.size*a.itemsize)# total sizes>> memory in bytes occupied by all the elements of array\n",
    "result=np.array([9,7,87,65])\n",
    "item_size_info(result)"
   ]
  },
  {
   "cell_type": "markdown",
   "metadata": {
    "id": "PulA_bUwOTPH"
   },
   "source": [
    "# Q.9 create a function array_strides that take numpy array as input and returns the strides of the array"
   ]
  },
  {
   "cell_type": "code",
   "execution_count": null,
   "metadata": {
    "colab": {
     "base_uri": "https://localhost:8080/"
    },
    "executionInfo": {
     "elapsed": 1623,
     "status": "ok",
     "timestamp": 1719904801290,
     "user": {
      "displayName": "Dhruv Gupta",
      "userId": "01321120305062122218"
     },
     "user_tz": -330
    },
    "id": "pdCxr33LMx3U",
    "outputId": "8495880e-c2b2-46bc-89c1-a8e7498a6406"
   },
   "outputs": [
    {
     "name": "stdout",
     "output_type": "stream",
     "text": [
      "2\n"
     ]
    },
    {
     "data": {
      "text/plain": [
       "(24, 8)"
      ]
     },
     "execution_count": 88,
     "metadata": {},
     "output_type": "execute_result"
    }
   ],
   "source": [
    "#stride represents how many bytes we have to skip to get to the next element of that dimension\n",
    "def array_strides(b):\n",
    "\n",
    "  return b.strides\n",
    "result=np.array([[1,2,3],[9,0,8]])\n",
    "\n",
    "array_strides(result)"
   ]
  },
  {
   "cell_type": "markdown",
   "metadata": {
    "id": "7gF8CGwQUQCu"
   },
   "source": [
    "# Q.10 Design a function shape_stride_relationship that takes a numpy array as input and returns the shape and strides of the array\n"
   ]
  },
  {
   "cell_type": "code",
   "execution_count": null,
   "metadata": {
    "colab": {
     "base_uri": "https://localhost:8080/"
    },
    "executionInfo": {
     "elapsed": 487,
     "status": "ok",
     "timestamp": 1719905149902,
     "user": {
      "displayName": "Dhruv Gupta",
      "userId": "01321120305062122218"
     },
     "user_tz": -330
    },
    "id": "pTeEhEvNPtk0",
    "outputId": "a65d1c1c-b090-45be-a034-907a28922bc2"
   },
   "outputs": [
    {
     "name": "stdout",
     "output_type": "stream",
     "text": [
      "the shape of given array is (3, 3)\n",
      "the strides of the array is (24, 8)\n"
     ]
    }
   ],
   "source": [
    "def shape_stride_relationship(n):\n",
    "  print('the shape of given array is',n.shape)\n",
    "  print('the strides of the array is',n.strides)\n",
    "result=np.array([[1,5,6],\n",
    "                [8,9,0],\n",
    "                [5,4,3]])\n",
    "shape_stride_relationship(result)"
   ]
  },
  {
   "cell_type": "markdown",
   "metadata": {
    "id": "m-_9QPeCcOJW"
   },
   "source": [
    "# Q.11  Create a function create_zeros_array that takes an integer n as input and returns a NumPy array of zeros with n elements.\n"
   ]
  },
  {
   "cell_type": "code",
   "execution_count": null,
   "metadata": {
    "colab": {
     "base_uri": "https://localhost:8080/"
    },
    "executionInfo": {
     "elapsed": 535,
     "status": "ok",
     "timestamp": 1719907358122,
     "user": {
      "displayName": "Dhruv Gupta",
      "userId": "01321120305062122218"
     },
     "user_tz": -330
    },
    "id": "TZ5wLgEZVd2o",
    "outputId": "4cebf539-2810-4a7f-9f12-e7c087d56d8f"
   },
   "outputs": [
    {
     "data": {
      "text/plain": [
       "array([0., 0., 0., 0.])"
      ]
     },
     "execution_count": 104,
     "metadata": {},
     "output_type": "execute_result"
    }
   ],
   "source": [
    "def create_zeros_array(n):\n",
    "  p=int(n)\n",
    "  return np.zeros(p)\n",
    "answer=4\n",
    "create_zeros_array(answer)\n"
   ]
  },
  {
   "cell_type": "markdown",
   "metadata": {
    "id": "zZ46tBLUeaU3"
   },
   "source": [
    "# Q.12 Write a function `create_ones_matrix` that takes integers `rows` and `cols` as inputs and generates a 2D NumPy array filled with ones of size `rows x cols`\n"
   ]
  },
  {
   "cell_type": "code",
   "execution_count": null,
   "metadata": {
    "colab": {
     "base_uri": "https://localhost:8080/"
    },
    "executionInfo": {
     "elapsed": 549,
     "status": "ok",
     "timestamp": 1719932506091,
     "user": {
      "displayName": "Dhruv Gupta",
      "userId": "01321120305062122218"
     },
     "user_tz": -330
    },
    "id": "Q7MFC4yMeDBk",
    "outputId": "cd712bed-590a-4d3b-a3a8-01e723cd4971"
   },
   "outputs": [
    {
     "name": "stdout",
     "output_type": "stream",
     "text": [
      "[[1. 1.]\n",
      " [1. 1.]\n",
      " [1. 1.]]\n"
     ]
    }
   ],
   "source": [
    "def create_ones_matrix(rows,cols):\n",
    "  return np.ones((rows,cols))\n",
    "row=3\n",
    "col=2\n",
    "print(create_ones_matrix(row,col))"
   ]
  },
  {
   "cell_type": "markdown",
   "metadata": {
    "id": "QIFNSw_n924v"
   },
   "source": [
    "# Q.13  Write a function `generate_range_array` that takes three integers start, stop, and step as arguments and creates a NumPy array with a range starting from `start`, ending at stop (exclusive), and with the specified `step`.\n"
   ]
  },
  {
   "cell_type": "code",
   "execution_count": null,
   "metadata": {
    "colab": {
     "base_uri": "https://localhost:8080/"
    },
    "executionInfo": {
     "elapsed": 716,
     "status": "ok",
     "timestamp": 1719933021870,
     "user": {
      "displayName": "Dhruv Gupta",
      "userId": "01321120305062122218"
     },
     "user_tz": -330
    },
    "id": "_B10q6RW9uXQ",
    "outputId": "aed8ee7a-ef67-4740-8123-dabe9cbc11de"
   },
   "outputs": [
    {
     "name": "stdout",
     "output_type": "stream",
     "text": [
      "[ 7 17 27 37 47 57 67 77 87 97]\n"
     ]
    }
   ],
   "source": [
    "def generate_range_array(start,stop,step):\n",
    "  return np.arange(start,stop,step)\n",
    "Start=7\n",
    "Stop=100\n",
    "Step=10\n",
    "print(generate_range_array(Start,Stop,Step))"
   ]
  },
  {
   "cell_type": "markdown",
   "metadata": {
    "id": "WQ-yrLl9_5Uw"
   },
   "source": [
    "# Q.14 . Design a function `generate_linear_space` that takes two floats `start`, `stop`, and an integer `num` as arguments and generates a NumPy array with num equally spaced values between `start` and `stop` (inclusive).\n",
    "\n"
   ]
  },
  {
   "cell_type": "code",
   "execution_count": null,
   "metadata": {
    "colab": {
     "base_uri": "https://localhost:8080/"
    },
    "executionInfo": {
     "elapsed": 810,
     "status": "ok",
     "timestamp": 1719933335793,
     "user": {
      "displayName": "Dhruv Gupta",
      "userId": "01321120305062122218"
     },
     "user_tz": -330
    },
    "id": "eHPg_JAN_vr6",
    "outputId": "d9cb80bf-f683-4a58-b5c9-0a0c011cdb4e"
   },
   "outputs": [
    {
     "data": {
      "text/plain": [
       "array([12.6       , 18.12142857, 23.64285714, 29.16428571, 34.68571429,\n",
       "       40.20714286, 45.72857143, 51.25      , 56.77142857, 62.29285714,\n",
       "       67.81428571, 73.33571429, 78.85714286, 84.37857143, 89.9       ])"
      ]
     },
     "execution_count": 7,
     "metadata": {},
     "output_type": "execute_result"
    }
   ],
   "source": [
    "def generate_linear_space(start,stop,num):\n",
    "  a=float(start)\n",
    "  b=float(stop)\n",
    "  c=int(num)\n",
    "  return np.linspace(a,b,c)\n",
    "p=12.6\n",
    "q=89.9\n",
    "r=15\n",
    "generate_linear_space(p,q,r)"
   ]
  },
  {
   "cell_type": "markdown",
   "metadata": {
    "id": "aQ1T7veTMXD9"
   },
   "source": [
    "# Q.15 Create a function `create_identity_matrix` that takes an integer `n` as input and generates a square identity matrix of size `n x n` using `numpy.eye`.\n"
   ]
  },
  {
   "cell_type": "code",
   "execution_count": null,
   "metadata": {
    "colab": {
     "base_uri": "https://localhost:8080/"
    },
    "executionInfo": {
     "elapsed": 490,
     "status": "ok",
     "timestamp": 1720312626346,
     "user": {
      "displayName": "Dhruv Gupta",
      "userId": "01321120305062122218"
     },
     "user_tz": -330
    },
    "id": "OPmgqbCIA7SO",
    "outputId": "18cc3df7-ed17-43cb-91a7-90e4396f51a5"
   },
   "outputs": [
    {
     "data": {
      "text/plain": [
       "array([[1., 0., 0.],\n",
       "       [0., 1., 0.],\n",
       "       [0., 0., 1.]])"
      ]
     },
     "execution_count": 25,
     "metadata": {},
     "output_type": "execute_result"
    }
   ],
   "source": [
    "def create_identity_matrix(n):\n",
    "  return np.eye(n)\n",
    "num=3\n",
    "create_identity_matrix(num)"
   ]
  },
  {
   "cell_type": "markdown",
   "metadata": {
    "id": "m2zoka_HN6Et"
   },
   "source": [
    "# Q.16  Write a function that takes a Python list and converts it into a NumPy array."
   ]
  },
  {
   "cell_type": "code",
   "execution_count": null,
   "metadata": {
    "colab": {
     "base_uri": "https://localhost:8080/"
    },
    "executionInfo": {
     "elapsed": 7,
     "status": "ok",
     "timestamp": 1719936876748,
     "user": {
      "displayName": "Dhruv Gupta",
      "userId": "01321120305062122218"
     },
     "user_tz": -330
    },
    "id": "_20NWoZgNo92",
    "outputId": "25577f53-c343-414b-d784-ab27725b0e07"
   },
   "outputs": [
    {
     "data": {
      "text/plain": [
       "array([1, 2, 3, 4, 5])"
      ]
     },
     "execution_count": 12,
     "metadata": {},
     "output_type": "execute_result"
    }
   ],
   "source": [
    "def convert_to_array(l):\n",
    "  return np.array(l)\n",
    "l=[1,2,3,4,5]\n",
    "convert_to_array(l)"
   ]
  },
  {
   "cell_type": "markdown",
   "metadata": {
    "id": "iDG2RplfOjRR"
   },
   "source": [
    "# Q.17 Create a NumPy array and demonstrate the use of `numpy.view` to create a new array object with the same data.\n"
   ]
  },
  {
   "cell_type": "code",
   "execution_count": null,
   "metadata": {
    "colab": {
     "base_uri": "https://localhost:8080/"
    },
    "executionInfo": {
     "elapsed": 7,
     "status": "ok",
     "timestamp": 1719938373614,
     "user": {
      "displayName": "Dhruv Gupta",
      "userId": "01321120305062122218"
     },
     "user_tz": -330
    },
    "id": "ARuQ1cY4Obzi",
    "outputId": "48dd93aa-532a-41b3-bc66-fb3f8dde70aa"
   },
   "outputs": [
    {
     "data": {
      "text/plain": [
       "array([1, 5, 6, 7])"
      ]
     },
     "execution_count": 18,
     "metadata": {},
     "output_type": "execute_result"
    }
   ],
   "source": [
    "arr=np.array([1,5,6,7])\n",
    "arr1=arr.view()\n",
    "arr1"
   ]
  },
  {
   "cell_type": "markdown",
   "metadata": {
    "id": "mzB09XfqUSQp"
   },
   "source": [
    "# Q.18  Write a function that takes two NumPy arrays and concatenates them along a specified axis."
   ]
  },
  {
   "cell_type": "code",
   "execution_count": null,
   "metadata": {
    "colab": {
     "base_uri": "https://localhost:8080/"
    },
    "executionInfo": {
     "elapsed": 436,
     "status": "ok",
     "timestamp": 1720313075095,
     "user": {
      "displayName": "Dhruv Gupta",
      "userId": "01321120305062122218"
     },
     "user_tz": -330
    },
    "id": "G3C9HypdUddg",
    "outputId": "90be169b-caf4-468a-a11f-1e0110ef74fe"
   },
   "outputs": [
    {
     "data": {
      "text/plain": [
       "array([[[9, 0, 8],\n",
       "        [2, 4, 8]],\n",
       "\n",
       "       [[4, 3, 2],\n",
       "        [9, 8, 7]]])"
      ]
     },
     "execution_count": 34,
     "metadata": {},
     "output_type": "execute_result"
    }
   ],
   "source": [
    "def concatenates(arr1,arr2):\n",
    "  return np.stack((array1,array2),axis=0)\n",
    "array1=np.array([[9,0,8],[2,4,8]])\n",
    "array2=np.array([[4,3,2],[9,8,7]])\n",
    "concatenates(array1,array2)\n"
   ]
  },
  {
   "cell_type": "markdown",
   "metadata": {
    "id": "FYU16gD_Wp2O"
   },
   "source": [
    "# Q.19 Create two NumPy arrays with different shapes and concatenate them horizontally using `numpy.concatenate`.\n",
    "\n"
   ]
  },
  {
   "cell_type": "code",
   "execution_count": null,
   "metadata": {
    "colab": {
     "base_uri": "https://localhost:8080/"
    },
    "executionInfo": {
     "elapsed": 635,
     "status": "ok",
     "timestamp": 1719939726717,
     "user": {
      "displayName": "Dhruv Gupta",
      "userId": "01321120305062122218"
     },
     "user_tz": -330
    },
    "id": "tZd7vsUZWmOp",
    "outputId": "6749a102-f00a-4b18-ee41-2edeb3a0d87c"
   },
   "outputs": [
    {
     "data": {
      "text/plain": [
       "array([[1, 2, 3],\n",
       "       [9, 0, 8],\n",
       "       [1, 7, 8]])"
      ]
     },
     "execution_count": 28,
     "metadata": {},
     "output_type": "execute_result"
    }
   ],
   "source": [
    "arr1=np.array([[1,2,3],\n",
    "              [9,0,8]])\n",
    "arr2=np.array([[1,7,8]])\n",
    "np.concatenate((arr1,arr2),axis=0)"
   ]
  },
  {
   "cell_type": "markdown",
   "metadata": {
    "id": "R171BbQHZZIK"
   },
   "source": [
    "# Q.20 . Write a function that vertically stacks multiple NumPy arrays given as a list."
   ]
  },
  {
   "cell_type": "code",
   "execution_count": null,
   "metadata": {
    "colab": {
     "base_uri": "https://localhost:8080/"
    },
    "executionInfo": {
     "elapsed": 470,
     "status": "ok",
     "timestamp": 1720313184406,
     "user": {
      "displayName": "Dhruv Gupta",
      "userId": "01321120305062122218"
     },
     "user_tz": -330
    },
    "id": "P4hQ3W4uXUTv",
    "outputId": "38a77c7d-e539-4cfd-9259-ec7f0b13e084"
   },
   "outputs": [
    {
     "data": {
      "text/plain": [
       "array([[ 1,  5,  6,  7],\n",
       "       [ 9,  0,  8,  7],\n",
       "       [ 6, 50,  0,  7],\n",
       "       [ 5,  0,  8,  1],\n",
       "       [ 2,  5,  4,  7],\n",
       "       [ 3,  0,  7,  7]])"
      ]
     },
     "execution_count": 35,
     "metadata": {},
     "output_type": "execute_result"
    }
   ],
   "source": [
    "def vertically_stack(t):\n",
    "  return np.vstack(t)#for vertically stack\n",
    "arr1=np.array([[1,5,6,7],\n",
    "              [9,0,8,7]])\n",
    "arr2=np.array([[6,50,0,7],\n",
    "              [5,0,8,1]])\n",
    "arr3=np.array([[2,5,4,7],\n",
    "              [3,0,7,7]])\n",
    "vertically_stack([arr1,arr2,arr3])#multiple array given as a list"
   ]
  },
  {
   "cell_type": "markdown",
   "metadata": {
    "id": "mOppMJbBbXhG"
   },
   "source": [
    "# Q.21 Write a Python function using NumPy to create an array of integers within a specified range (inclusive) with a given step size.\n"
   ]
  },
  {
   "cell_type": "code",
   "execution_count": null,
   "metadata": {
    "colab": {
     "base_uri": "https://localhost:8080/"
    },
    "executionInfo": {
     "elapsed": 646,
     "status": "ok",
     "timestamp": 1719940750044,
     "user": {
      "displayName": "Dhruv Gupta",
      "userId": "01321120305062122218"
     },
     "user_tz": -330
    },
    "id": "OYrgrqyxaFJ-",
    "outputId": "079ecfee-074c-4707-c566-5b67e3145d3a"
   },
   "outputs": [
    {
     "data": {
      "text/plain": [
       "array([12, 17, 22, 27, 32, 37, 42, 47, 52, 57, 62, 67, 72, 77, 82, 87])"
      ]
     },
     "execution_count": 38,
     "metadata": {},
     "output_type": "execute_result"
    }
   ],
   "source": [
    "def create(start,stop,num):\n",
    "  a=int(start)\n",
    "  b=int(stop)\n",
    "  c=int(num)\n",
    "  return np.arange(a,b+1,c)\n",
    "p=12\n",
    "q=87\n",
    "r=5\n",
    "create(p,q,r)"
   ]
  },
  {
   "cell_type": "markdown",
   "metadata": {
    "id": "EmcqniyNdXSO"
   },
   "source": [
    "# Q.22 Write a Python function using NumPy to generate an array of 10 equally spaced values between 0 and 1 (inclusive).\n"
   ]
  },
  {
   "cell_type": "code",
   "execution_count": null,
   "metadata": {
    "colab": {
     "base_uri": "https://localhost:8080/"
    },
    "executionInfo": {
     "elapsed": 6,
     "status": "ok",
     "timestamp": 1719940996798,
     "user": {
      "displayName": "Dhruv Gupta",
      "userId": "01321120305062122218"
     },
     "user_tz": -330
    },
    "id": "9THfwQ6Hb67Y",
    "outputId": "511ca07c-567a-4abe-bcc7-e56240251c0c"
   },
   "outputs": [
    {
     "data": {
      "text/plain": [
       "array([0.        , 0.11111111, 0.22222222, 0.33333333, 0.44444444,\n",
       "       0.55555556, 0.66666667, 0.77777778, 0.88888889, 1.        ])"
      ]
     },
     "execution_count": 40,
     "metadata": {},
     "output_type": "execute_result"
    }
   ],
   "source": [
    "def equally_spaced():\n",
    "  return np.linspace(0,1,10)\n",
    "equally_spaced()"
   ]
  },
  {
   "cell_type": "markdown",
   "metadata": {
    "id": "bUmL7fuSeQSo"
   },
   "source": [
    "# Q.23 Write a Python function using NumPy to create an array of 5 logarithmically spaced values between 1 and 1000 (inclusive).\n"
   ]
  },
  {
   "cell_type": "code",
   "execution_count": null,
   "metadata": {
    "colab": {
     "base_uri": "https://localhost:8080/"
    },
    "executionInfo": {
     "elapsed": 757,
     "status": "ok",
     "timestamp": 1719941210510,
     "user": {
      "displayName": "Dhruv Gupta",
      "userId": "01321120305062122218"
     },
     "user_tz": -330
    },
    "id": "P9ir83SneLSt",
    "outputId": "861eaf97-1060-4f1e-80b2-8e96d3bc20f5"
   },
   "outputs": [
    {
     "name": "stderr",
     "output_type": "stream",
     "text": [
      "/usr/local/lib/python3.10/dist-packages/numpy/core/function_base.py:298: RuntimeWarning: overflow encountered in power\n",
      "  return _nx.power(base, y)\n"
     ]
    },
    {
     "data": {
      "text/plain": [
       "array([1.00000000e+001, 2.44205309e+021, 5.96362332e+041, 1.45634848e+062,\n",
       "       3.55648031e+082, 8.68511374e+102, 2.12095089e+123, 5.17947468e+143,\n",
       "       1.26485522e+164, 3.08884360e+184, 7.54312006e+204, 1.84206997e+225,\n",
       "       4.49843267e+245, 1.09854114e+266, 2.68269580e+286, 6.55128557e+306,\n",
       "                   inf,             inf,             inf,             inf,\n",
       "                   inf,             inf,             inf,             inf,\n",
       "                   inf,             inf,             inf,             inf,\n",
       "                   inf,             inf,             inf,             inf,\n",
       "                   inf,             inf,             inf,             inf,\n",
       "                   inf,             inf,             inf,             inf,\n",
       "                   inf,             inf,             inf,             inf,\n",
       "                   inf,             inf,             inf,             inf,\n",
       "                   inf,             inf])"
      ]
     },
     "execution_count": 42,
     "metadata": {},
     "output_type": "execute_result"
    }
   ],
   "source": [
    "def log_space():\n",
    "  return np.logspace(1,1000)\n",
    "log_space()\n"
   ]
  },
  {
   "cell_type": "markdown",
   "metadata": {
    "id": "gpwlt8hFfGBL"
   },
   "source": [
    "# Q.24 Create a Pandas DataFrame using a NumPy array that contains 5 rows and 3 columns, where the values are random integers between 1 and 100.\n"
   ]
  },
  {
   "cell_type": "code",
   "execution_count": null,
   "metadata": {
    "colab": {
     "base_uri": "https://localhost:8080/",
     "height": 206
    },
    "executionInfo": {
     "elapsed": 2305,
     "status": "ok",
     "timestamp": 1720066460474,
     "user": {
      "displayName": "Dhruv Gupta",
      "userId": "01321120305062122218"
     },
     "user_tz": -330
    },
    "id": "kA0IJ4WQgMdh",
    "outputId": "e63a965d-a0e7-4965-9514-07afbc82f7ab"
   },
   "outputs": [
    {
     "data": {
      "application/vnd.google.colaboratory.intrinsic+json": {
       "summary": "{\n  \"name\": \"pd\",\n  \"rows\": 5,\n  \"fields\": [\n    {\n      \"column\": 0,\n      \"properties\": {\n        \"dtype\": \"number\",\n        \"std\": 25,\n        \"min\": 25,\n        \"max\": 87,\n        \"num_unique_values\": 5,\n        \"samples\": [\n          78,\n          44,\n          25\n        ],\n        \"semantic_type\": \"\",\n        \"description\": \"\"\n      }\n    },\n    {\n      \"column\": 1,\n      \"properties\": {\n        \"dtype\": \"number\",\n        \"std\": 22,\n        \"min\": 3,\n        \"max\": 57,\n        \"num_unique_values\": 5,\n        \"samples\": [\n          17,\n          3,\n          48\n        ],\n        \"semantic_type\": \"\",\n        \"description\": \"\"\n      }\n    },\n    {\n      \"column\": 2,\n      \"properties\": {\n        \"dtype\": \"number\",\n        \"std\": 34,\n        \"min\": 15,\n        \"max\": 97,\n        \"num_unique_values\": 4,\n        \"samples\": [\n          97,\n          27,\n          15\n        ],\n        \"semantic_type\": \"\",\n        \"description\": \"\"\n      }\n    }\n  ]\n}",
       "type": "dataframe"
      },
      "text/html": [
       "\n",
       "  <div id=\"df-97f1a14c-6f17-4cd6-877e-a481d0347899\" class=\"colab-df-container\">\n",
       "    <div>\n",
       "<style scoped>\n",
       "    .dataframe tbody tr th:only-of-type {\n",
       "        vertical-align: middle;\n",
       "    }\n",
       "\n",
       "    .dataframe tbody tr th {\n",
       "        vertical-align: top;\n",
       "    }\n",
       "\n",
       "    .dataframe thead th {\n",
       "        text-align: right;\n",
       "    }\n",
       "</style>\n",
       "<table border=\"1\" class=\"dataframe\">\n",
       "  <thead>\n",
       "    <tr style=\"text-align: right;\">\n",
       "      <th></th>\n",
       "      <th>0</th>\n",
       "      <th>1</th>\n",
       "      <th>2</th>\n",
       "    </tr>\n",
       "  </thead>\n",
       "  <tbody>\n",
       "    <tr>\n",
       "      <th>0</th>\n",
       "      <td>53</td>\n",
       "      <td>26</td>\n",
       "      <td>15</td>\n",
       "    </tr>\n",
       "    <tr>\n",
       "      <th>1</th>\n",
       "      <td>78</td>\n",
       "      <td>17</td>\n",
       "      <td>15</td>\n",
       "    </tr>\n",
       "    <tr>\n",
       "      <th>2</th>\n",
       "      <td>25</td>\n",
       "      <td>48</td>\n",
       "      <td>97</td>\n",
       "    </tr>\n",
       "    <tr>\n",
       "      <th>3</th>\n",
       "      <td>87</td>\n",
       "      <td>57</td>\n",
       "      <td>49</td>\n",
       "    </tr>\n",
       "    <tr>\n",
       "      <th>4</th>\n",
       "      <td>44</td>\n",
       "      <td>3</td>\n",
       "      <td>27</td>\n",
       "    </tr>\n",
       "  </tbody>\n",
       "</table>\n",
       "</div>\n",
       "    <div class=\"colab-df-buttons\">\n",
       "\n",
       "  <div class=\"colab-df-container\">\n",
       "    <button class=\"colab-df-convert\" onclick=\"convertToInteractive('df-97f1a14c-6f17-4cd6-877e-a481d0347899')\"\n",
       "            title=\"Convert this dataframe to an interactive table.\"\n",
       "            style=\"display:none;\">\n",
       "\n",
       "  <svg xmlns=\"http://www.w3.org/2000/svg\" height=\"24px\" viewBox=\"0 -960 960 960\">\n",
       "    <path d=\"M120-120v-720h720v720H120Zm60-500h600v-160H180v160Zm220 220h160v-160H400v160Zm0 220h160v-160H400v160ZM180-400h160v-160H180v160Zm440 0h160v-160H620v160ZM180-180h160v-160H180v160Zm440 0h160v-160H620v160Z\"/>\n",
       "  </svg>\n",
       "    </button>\n",
       "\n",
       "  <style>\n",
       "    .colab-df-container {\n",
       "      display:flex;\n",
       "      gap: 12px;\n",
       "    }\n",
       "\n",
       "    .colab-df-convert {\n",
       "      background-color: #E8F0FE;\n",
       "      border: none;\n",
       "      border-radius: 50%;\n",
       "      cursor: pointer;\n",
       "      display: none;\n",
       "      fill: #1967D2;\n",
       "      height: 32px;\n",
       "      padding: 0 0 0 0;\n",
       "      width: 32px;\n",
       "    }\n",
       "\n",
       "    .colab-df-convert:hover {\n",
       "      background-color: #E2EBFA;\n",
       "      box-shadow: 0px 1px 2px rgba(60, 64, 67, 0.3), 0px 1px 3px 1px rgba(60, 64, 67, 0.15);\n",
       "      fill: #174EA6;\n",
       "    }\n",
       "\n",
       "    .colab-df-buttons div {\n",
       "      margin-bottom: 4px;\n",
       "    }\n",
       "\n",
       "    [theme=dark] .colab-df-convert {\n",
       "      background-color: #3B4455;\n",
       "      fill: #D2E3FC;\n",
       "    }\n",
       "\n",
       "    [theme=dark] .colab-df-convert:hover {\n",
       "      background-color: #434B5C;\n",
       "      box-shadow: 0px 1px 3px 1px rgba(0, 0, 0, 0.15);\n",
       "      filter: drop-shadow(0px 1px 2px rgba(0, 0, 0, 0.3));\n",
       "      fill: #FFFFFF;\n",
       "    }\n",
       "  </style>\n",
       "\n",
       "    <script>\n",
       "      const buttonEl =\n",
       "        document.querySelector('#df-97f1a14c-6f17-4cd6-877e-a481d0347899 button.colab-df-convert');\n",
       "      buttonEl.style.display =\n",
       "        google.colab.kernel.accessAllowed ? 'block' : 'none';\n",
       "\n",
       "      async function convertToInteractive(key) {\n",
       "        const element = document.querySelector('#df-97f1a14c-6f17-4cd6-877e-a481d0347899');\n",
       "        const dataTable =\n",
       "          await google.colab.kernel.invokeFunction('convertToInteractive',\n",
       "                                                    [key], {});\n",
       "        if (!dataTable) return;\n",
       "\n",
       "        const docLinkHtml = 'Like what you see? Visit the ' +\n",
       "          '<a target=\"_blank\" href=https://colab.research.google.com/notebooks/data_table.ipynb>data table notebook</a>'\n",
       "          + ' to learn more about interactive tables.';\n",
       "        element.innerHTML = '';\n",
       "        dataTable['output_type'] = 'display_data';\n",
       "        await google.colab.output.renderOutput(dataTable, element);\n",
       "        const docLink = document.createElement('div');\n",
       "        docLink.innerHTML = docLinkHtml;\n",
       "        element.appendChild(docLink);\n",
       "      }\n",
       "    </script>\n",
       "  </div>\n",
       "\n",
       "\n",
       "<div id=\"df-4de71e1f-77ba-4645-90c4-46e27def17d5\">\n",
       "  <button class=\"colab-df-quickchart\" onclick=\"quickchart('df-4de71e1f-77ba-4645-90c4-46e27def17d5')\"\n",
       "            title=\"Suggest charts\"\n",
       "            style=\"display:none;\">\n",
       "\n",
       "<svg xmlns=\"http://www.w3.org/2000/svg\" height=\"24px\"viewBox=\"0 0 24 24\"\n",
       "     width=\"24px\">\n",
       "    <g>\n",
       "        <path d=\"M19 3H5c-1.1 0-2 .9-2 2v14c0 1.1.9 2 2 2h14c1.1 0 2-.9 2-2V5c0-1.1-.9-2-2-2zM9 17H7v-7h2v7zm4 0h-2V7h2v10zm4 0h-2v-4h2v4z\"/>\n",
       "    </g>\n",
       "</svg>\n",
       "  </button>\n",
       "\n",
       "<style>\n",
       "  .colab-df-quickchart {\n",
       "      --bg-color: #E8F0FE;\n",
       "      --fill-color: #1967D2;\n",
       "      --hover-bg-color: #E2EBFA;\n",
       "      --hover-fill-color: #174EA6;\n",
       "      --disabled-fill-color: #AAA;\n",
       "      --disabled-bg-color: #DDD;\n",
       "  }\n",
       "\n",
       "  [theme=dark] .colab-df-quickchart {\n",
       "      --bg-color: #3B4455;\n",
       "      --fill-color: #D2E3FC;\n",
       "      --hover-bg-color: #434B5C;\n",
       "      --hover-fill-color: #FFFFFF;\n",
       "      --disabled-bg-color: #3B4455;\n",
       "      --disabled-fill-color: #666;\n",
       "  }\n",
       "\n",
       "  .colab-df-quickchart {\n",
       "    background-color: var(--bg-color);\n",
       "    border: none;\n",
       "    border-radius: 50%;\n",
       "    cursor: pointer;\n",
       "    display: none;\n",
       "    fill: var(--fill-color);\n",
       "    height: 32px;\n",
       "    padding: 0;\n",
       "    width: 32px;\n",
       "  }\n",
       "\n",
       "  .colab-df-quickchart:hover {\n",
       "    background-color: var(--hover-bg-color);\n",
       "    box-shadow: 0 1px 2px rgba(60, 64, 67, 0.3), 0 1px 3px 1px rgba(60, 64, 67, 0.15);\n",
       "    fill: var(--button-hover-fill-color);\n",
       "  }\n",
       "\n",
       "  .colab-df-quickchart-complete:disabled,\n",
       "  .colab-df-quickchart-complete:disabled:hover {\n",
       "    background-color: var(--disabled-bg-color);\n",
       "    fill: var(--disabled-fill-color);\n",
       "    box-shadow: none;\n",
       "  }\n",
       "\n",
       "  .colab-df-spinner {\n",
       "    border: 2px solid var(--fill-color);\n",
       "    border-color: transparent;\n",
       "    border-bottom-color: var(--fill-color);\n",
       "    animation:\n",
       "      spin 1s steps(1) infinite;\n",
       "  }\n",
       "\n",
       "  @keyframes spin {\n",
       "    0% {\n",
       "      border-color: transparent;\n",
       "      border-bottom-color: var(--fill-color);\n",
       "      border-left-color: var(--fill-color);\n",
       "    }\n",
       "    20% {\n",
       "      border-color: transparent;\n",
       "      border-left-color: var(--fill-color);\n",
       "      border-top-color: var(--fill-color);\n",
       "    }\n",
       "    30% {\n",
       "      border-color: transparent;\n",
       "      border-left-color: var(--fill-color);\n",
       "      border-top-color: var(--fill-color);\n",
       "      border-right-color: var(--fill-color);\n",
       "    }\n",
       "    40% {\n",
       "      border-color: transparent;\n",
       "      border-right-color: var(--fill-color);\n",
       "      border-top-color: var(--fill-color);\n",
       "    }\n",
       "    60% {\n",
       "      border-color: transparent;\n",
       "      border-right-color: var(--fill-color);\n",
       "    }\n",
       "    80% {\n",
       "      border-color: transparent;\n",
       "      border-right-color: var(--fill-color);\n",
       "      border-bottom-color: var(--fill-color);\n",
       "    }\n",
       "    90% {\n",
       "      border-color: transparent;\n",
       "      border-bottom-color: var(--fill-color);\n",
       "    }\n",
       "  }\n",
       "</style>\n",
       "\n",
       "  <script>\n",
       "    async function quickchart(key) {\n",
       "      const quickchartButtonEl =\n",
       "        document.querySelector('#' + key + ' button');\n",
       "      quickchartButtonEl.disabled = true;  // To prevent multiple clicks.\n",
       "      quickchartButtonEl.classList.add('colab-df-spinner');\n",
       "      try {\n",
       "        const charts = await google.colab.kernel.invokeFunction(\n",
       "            'suggestCharts', [key], {});\n",
       "      } catch (error) {\n",
       "        console.error('Error during call to suggestCharts:', error);\n",
       "      }\n",
       "      quickchartButtonEl.classList.remove('colab-df-spinner');\n",
       "      quickchartButtonEl.classList.add('colab-df-quickchart-complete');\n",
       "    }\n",
       "    (() => {\n",
       "      let quickchartButtonEl =\n",
       "        document.querySelector('#df-4de71e1f-77ba-4645-90c4-46e27def17d5 button');\n",
       "      quickchartButtonEl.style.display =\n",
       "        google.colab.kernel.accessAllowed ? 'block' : 'none';\n",
       "    })();\n",
       "  </script>\n",
       "</div>\n",
       "    </div>\n",
       "  </div>\n"
      ],
      "text/plain": [
       "    0   1   2\n",
       "0  53  26  15\n",
       "1  78  17  15\n",
       "2  25  48  97\n",
       "3  87  57  49\n",
       "4  44   3  27"
      ]
     },
     "execution_count": 2,
     "metadata": {},
     "output_type": "execute_result"
    }
   ],
   "source": [
    "import pandas as pd\n",
    "arr=np.random.randint(1,100,(5,3))\n",
    "pd.DataFrame(arr)\n",
    "\n"
   ]
  },
  {
   "cell_type": "markdown",
   "metadata": {
    "id": "kbBnpD1ogZgM"
   },
   "source": [
    "# Q.25 Write a function that takes a Pandas DataFrame and replaces all negative values in a specific column with zeros. Use NumPy operations within the Pandas DataFrame.\n"
   ]
  },
  {
   "cell_type": "code",
   "execution_count": null,
   "metadata": {
    "colab": {
     "base_uri": "https://localhost:8080/",
     "height": 143
    },
    "executionInfo": {
     "elapsed": 502,
     "status": "ok",
     "timestamp": 1719984635704,
     "user": {
      "displayName": "Dhruv Gupta",
      "userId": "01321120305062122218"
     },
     "user_tz": -330
    },
    "id": "ke9qd_dSic6K",
    "outputId": "62fe2926-86ff-4037-f24f-6871d4e3426a"
   },
   "outputs": [
    {
     "data": {
      "application/vnd.google.colaboratory.intrinsic+json": {
       "summary": "{\n  \"name\": \"data\",\n  \"rows\": 3,\n  \"fields\": [\n    {\n      \"column\": \"a\",\n      \"properties\": {\n        \"dtype\": \"number\",\n        \"std\": 0,\n        \"min\": 0,\n        \"max\": 1,\n        \"num_unique_values\": 2,\n        \"samples\": [\n          0,\n          1\n        ],\n        \"semantic_type\": \"\",\n        \"description\": \"\"\n      }\n    },\n    {\n      \"column\": \"b\",\n      \"properties\": {\n        \"dtype\": \"number\",\n        \"std\": 5,\n        \"min\": -2,\n        \"max\": 8,\n        \"num_unique_values\": 3,\n        \"samples\": [\n          -2,\n          7\n        ],\n        \"semantic_type\": \"\",\n        \"description\": \"\"\n      }\n    },\n    {\n      \"column\": \"C\",\n      \"properties\": {\n        \"dtype\": \"number\",\n        \"std\": 4,\n        \"min\": -1,\n        \"max\": 8,\n        \"num_unique_values\": 3,\n        \"samples\": [\n          8,\n          5\n        ],\n        \"semantic_type\": \"\",\n        \"description\": \"\"\n      }\n    }\n  ]\n}",
       "type": "dataframe",
       "variable_name": "data"
      },
      "text/html": [
       "\n",
       "  <div id=\"df-81364f3f-921a-4a39-8319-49541a371c29\" class=\"colab-df-container\">\n",
       "    <div>\n",
       "<style scoped>\n",
       "    .dataframe tbody tr th:only-of-type {\n",
       "        vertical-align: middle;\n",
       "    }\n",
       "\n",
       "    .dataframe tbody tr th {\n",
       "        vertical-align: top;\n",
       "    }\n",
       "\n",
       "    .dataframe thead th {\n",
       "        text-align: right;\n",
       "    }\n",
       "</style>\n",
       "<table border=\"1\" class=\"dataframe\">\n",
       "  <thead>\n",
       "    <tr style=\"text-align: right;\">\n",
       "      <th></th>\n",
       "      <th>a</th>\n",
       "      <th>b</th>\n",
       "      <th>C</th>\n",
       "    </tr>\n",
       "  </thead>\n",
       "  <tbody>\n",
       "    <tr>\n",
       "      <th>0</th>\n",
       "      <td>1</td>\n",
       "      <td>-2</td>\n",
       "      <td>8</td>\n",
       "    </tr>\n",
       "    <tr>\n",
       "      <th>1</th>\n",
       "      <td>0</td>\n",
       "      <td>7</td>\n",
       "      <td>5</td>\n",
       "    </tr>\n",
       "    <tr>\n",
       "      <th>2</th>\n",
       "      <td>0</td>\n",
       "      <td>8</td>\n",
       "      <td>-1</td>\n",
       "    </tr>\n",
       "  </tbody>\n",
       "</table>\n",
       "</div>\n",
       "    <div class=\"colab-df-buttons\">\n",
       "\n",
       "  <div class=\"colab-df-container\">\n",
       "    <button class=\"colab-df-convert\" onclick=\"convertToInteractive('df-81364f3f-921a-4a39-8319-49541a371c29')\"\n",
       "            title=\"Convert this dataframe to an interactive table.\"\n",
       "            style=\"display:none;\">\n",
       "\n",
       "  <svg xmlns=\"http://www.w3.org/2000/svg\" height=\"24px\" viewBox=\"0 -960 960 960\">\n",
       "    <path d=\"M120-120v-720h720v720H120Zm60-500h600v-160H180v160Zm220 220h160v-160H400v160Zm0 220h160v-160H400v160ZM180-400h160v-160H180v160Zm440 0h160v-160H620v160ZM180-180h160v-160H180v160Zm440 0h160v-160H620v160Z\"/>\n",
       "  </svg>\n",
       "    </button>\n",
       "\n",
       "  <style>\n",
       "    .colab-df-container {\n",
       "      display:flex;\n",
       "      gap: 12px;\n",
       "    }\n",
       "\n",
       "    .colab-df-convert {\n",
       "      background-color: #E8F0FE;\n",
       "      border: none;\n",
       "      border-radius: 50%;\n",
       "      cursor: pointer;\n",
       "      display: none;\n",
       "      fill: #1967D2;\n",
       "      height: 32px;\n",
       "      padding: 0 0 0 0;\n",
       "      width: 32px;\n",
       "    }\n",
       "\n",
       "    .colab-df-convert:hover {\n",
       "      background-color: #E2EBFA;\n",
       "      box-shadow: 0px 1px 2px rgba(60, 64, 67, 0.3), 0px 1px 3px 1px rgba(60, 64, 67, 0.15);\n",
       "      fill: #174EA6;\n",
       "    }\n",
       "\n",
       "    .colab-df-buttons div {\n",
       "      margin-bottom: 4px;\n",
       "    }\n",
       "\n",
       "    [theme=dark] .colab-df-convert {\n",
       "      background-color: #3B4455;\n",
       "      fill: #D2E3FC;\n",
       "    }\n",
       "\n",
       "    [theme=dark] .colab-df-convert:hover {\n",
       "      background-color: #434B5C;\n",
       "      box-shadow: 0px 1px 3px 1px rgba(0, 0, 0, 0.15);\n",
       "      filter: drop-shadow(0px 1px 2px rgba(0, 0, 0, 0.3));\n",
       "      fill: #FFFFFF;\n",
       "    }\n",
       "  </style>\n",
       "\n",
       "    <script>\n",
       "      const buttonEl =\n",
       "        document.querySelector('#df-81364f3f-921a-4a39-8319-49541a371c29 button.colab-df-convert');\n",
       "      buttonEl.style.display =\n",
       "        google.colab.kernel.accessAllowed ? 'block' : 'none';\n",
       "\n",
       "      async function convertToInteractive(key) {\n",
       "        const element = document.querySelector('#df-81364f3f-921a-4a39-8319-49541a371c29');\n",
       "        const dataTable =\n",
       "          await google.colab.kernel.invokeFunction('convertToInteractive',\n",
       "                                                    [key], {});\n",
       "        if (!dataTable) return;\n",
       "\n",
       "        const docLinkHtml = 'Like what you see? Visit the ' +\n",
       "          '<a target=\"_blank\" href=https://colab.research.google.com/notebooks/data_table.ipynb>data table notebook</a>'\n",
       "          + ' to learn more about interactive tables.';\n",
       "        element.innerHTML = '';\n",
       "        dataTable['output_type'] = 'display_data';\n",
       "        await google.colab.output.renderOutput(dataTable, element);\n",
       "        const docLink = document.createElement('div');\n",
       "        docLink.innerHTML = docLinkHtml;\n",
       "        element.appendChild(docLink);\n",
       "      }\n",
       "    </script>\n",
       "  </div>\n",
       "\n",
       "\n",
       "<div id=\"df-a7251526-1bf7-495b-8d5d-2d5b20a166f4\">\n",
       "  <button class=\"colab-df-quickchart\" onclick=\"quickchart('df-a7251526-1bf7-495b-8d5d-2d5b20a166f4')\"\n",
       "            title=\"Suggest charts\"\n",
       "            style=\"display:none;\">\n",
       "\n",
       "<svg xmlns=\"http://www.w3.org/2000/svg\" height=\"24px\"viewBox=\"0 0 24 24\"\n",
       "     width=\"24px\">\n",
       "    <g>\n",
       "        <path d=\"M19 3H5c-1.1 0-2 .9-2 2v14c0 1.1.9 2 2 2h14c1.1 0 2-.9 2-2V5c0-1.1-.9-2-2-2zM9 17H7v-7h2v7zm4 0h-2V7h2v10zm4 0h-2v-4h2v4z\"/>\n",
       "    </g>\n",
       "</svg>\n",
       "  </button>\n",
       "\n",
       "<style>\n",
       "  .colab-df-quickchart {\n",
       "      --bg-color: #E8F0FE;\n",
       "      --fill-color: #1967D2;\n",
       "      --hover-bg-color: #E2EBFA;\n",
       "      --hover-fill-color: #174EA6;\n",
       "      --disabled-fill-color: #AAA;\n",
       "      --disabled-bg-color: #DDD;\n",
       "  }\n",
       "\n",
       "  [theme=dark] .colab-df-quickchart {\n",
       "      --bg-color: #3B4455;\n",
       "      --fill-color: #D2E3FC;\n",
       "      --hover-bg-color: #434B5C;\n",
       "      --hover-fill-color: #FFFFFF;\n",
       "      --disabled-bg-color: #3B4455;\n",
       "      --disabled-fill-color: #666;\n",
       "  }\n",
       "\n",
       "  .colab-df-quickchart {\n",
       "    background-color: var(--bg-color);\n",
       "    border: none;\n",
       "    border-radius: 50%;\n",
       "    cursor: pointer;\n",
       "    display: none;\n",
       "    fill: var(--fill-color);\n",
       "    height: 32px;\n",
       "    padding: 0;\n",
       "    width: 32px;\n",
       "  }\n",
       "\n",
       "  .colab-df-quickchart:hover {\n",
       "    background-color: var(--hover-bg-color);\n",
       "    box-shadow: 0 1px 2px rgba(60, 64, 67, 0.3), 0 1px 3px 1px rgba(60, 64, 67, 0.15);\n",
       "    fill: var(--button-hover-fill-color);\n",
       "  }\n",
       "\n",
       "  .colab-df-quickchart-complete:disabled,\n",
       "  .colab-df-quickchart-complete:disabled:hover {\n",
       "    background-color: var(--disabled-bg-color);\n",
       "    fill: var(--disabled-fill-color);\n",
       "    box-shadow: none;\n",
       "  }\n",
       "\n",
       "  .colab-df-spinner {\n",
       "    border: 2px solid var(--fill-color);\n",
       "    border-color: transparent;\n",
       "    border-bottom-color: var(--fill-color);\n",
       "    animation:\n",
       "      spin 1s steps(1) infinite;\n",
       "  }\n",
       "\n",
       "  @keyframes spin {\n",
       "    0% {\n",
       "      border-color: transparent;\n",
       "      border-bottom-color: var(--fill-color);\n",
       "      border-left-color: var(--fill-color);\n",
       "    }\n",
       "    20% {\n",
       "      border-color: transparent;\n",
       "      border-left-color: var(--fill-color);\n",
       "      border-top-color: var(--fill-color);\n",
       "    }\n",
       "    30% {\n",
       "      border-color: transparent;\n",
       "      border-left-color: var(--fill-color);\n",
       "      border-top-color: var(--fill-color);\n",
       "      border-right-color: var(--fill-color);\n",
       "    }\n",
       "    40% {\n",
       "      border-color: transparent;\n",
       "      border-right-color: var(--fill-color);\n",
       "      border-top-color: var(--fill-color);\n",
       "    }\n",
       "    60% {\n",
       "      border-color: transparent;\n",
       "      border-right-color: var(--fill-color);\n",
       "    }\n",
       "    80% {\n",
       "      border-color: transparent;\n",
       "      border-right-color: var(--fill-color);\n",
       "      border-bottom-color: var(--fill-color);\n",
       "    }\n",
       "    90% {\n",
       "      border-color: transparent;\n",
       "      border-bottom-color: var(--fill-color);\n",
       "    }\n",
       "  }\n",
       "</style>\n",
       "\n",
       "  <script>\n",
       "    async function quickchart(key) {\n",
       "      const quickchartButtonEl =\n",
       "        document.querySelector('#' + key + ' button');\n",
       "      quickchartButtonEl.disabled = true;  // To prevent multiple clicks.\n",
       "      quickchartButtonEl.classList.add('colab-df-spinner');\n",
       "      try {\n",
       "        const charts = await google.colab.kernel.invokeFunction(\n",
       "            'suggestCharts', [key], {});\n",
       "      } catch (error) {\n",
       "        console.error('Error during call to suggestCharts:', error);\n",
       "      }\n",
       "      quickchartButtonEl.classList.remove('colab-df-spinner');\n",
       "      quickchartButtonEl.classList.add('colab-df-quickchart-complete');\n",
       "    }\n",
       "    (() => {\n",
       "      let quickchartButtonEl =\n",
       "        document.querySelector('#df-a7251526-1bf7-495b-8d5d-2d5b20a166f4 button');\n",
       "      quickchartButtonEl.style.display =\n",
       "        google.colab.kernel.accessAllowed ? 'block' : 'none';\n",
       "    })();\n",
       "  </script>\n",
       "</div>\n",
       "\n",
       "  <div id=\"id_6d3f5ee5-39cd-4a94-9a49-8fc56c85a7fc\">\n",
       "    <style>\n",
       "      .colab-df-generate {\n",
       "        background-color: #E8F0FE;\n",
       "        border: none;\n",
       "        border-radius: 50%;\n",
       "        cursor: pointer;\n",
       "        display: none;\n",
       "        fill: #1967D2;\n",
       "        height: 32px;\n",
       "        padding: 0 0 0 0;\n",
       "        width: 32px;\n",
       "      }\n",
       "\n",
       "      .colab-df-generate:hover {\n",
       "        background-color: #E2EBFA;\n",
       "        box-shadow: 0px 1px 2px rgba(60, 64, 67, 0.3), 0px 1px 3px 1px rgba(60, 64, 67, 0.15);\n",
       "        fill: #174EA6;\n",
       "      }\n",
       "\n",
       "      [theme=dark] .colab-df-generate {\n",
       "        background-color: #3B4455;\n",
       "        fill: #D2E3FC;\n",
       "      }\n",
       "\n",
       "      [theme=dark] .colab-df-generate:hover {\n",
       "        background-color: #434B5C;\n",
       "        box-shadow: 0px 1px 3px 1px rgba(0, 0, 0, 0.15);\n",
       "        filter: drop-shadow(0px 1px 2px rgba(0, 0, 0, 0.3));\n",
       "        fill: #FFFFFF;\n",
       "      }\n",
       "    </style>\n",
       "    <button class=\"colab-df-generate\" onclick=\"generateWithVariable('data')\"\n",
       "            title=\"Generate code using this dataframe.\"\n",
       "            style=\"display:none;\">\n",
       "\n",
       "  <svg xmlns=\"http://www.w3.org/2000/svg\" height=\"24px\"viewBox=\"0 0 24 24\"\n",
       "       width=\"24px\">\n",
       "    <path d=\"M7,19H8.4L18.45,9,17,7.55,7,17.6ZM5,21V16.75L18.45,3.32a2,2,0,0,1,2.83,0l1.4,1.43a1.91,1.91,0,0,1,.58,1.4,1.91,1.91,0,0,1-.58,1.4L9.25,21ZM18.45,9,17,7.55Zm-12,3A5.31,5.31,0,0,0,4.9,8.1,5.31,5.31,0,0,0,1,6.5,5.31,5.31,0,0,0,4.9,4.9,5.31,5.31,0,0,0,6.5,1,5.31,5.31,0,0,0,8.1,4.9,5.31,5.31,0,0,0,12,6.5,5.46,5.46,0,0,0,6.5,12Z\"/>\n",
       "  </svg>\n",
       "    </button>\n",
       "    <script>\n",
       "      (() => {\n",
       "      const buttonEl =\n",
       "        document.querySelector('#id_6d3f5ee5-39cd-4a94-9a49-8fc56c85a7fc button.colab-df-generate');\n",
       "      buttonEl.style.display =\n",
       "        google.colab.kernel.accessAllowed ? 'block' : 'none';\n",
       "\n",
       "      buttonEl.onclick = () => {\n",
       "        google.colab.notebook.generateWithVariable('data');\n",
       "      }\n",
       "      })();\n",
       "    </script>\n",
       "  </div>\n",
       "\n",
       "    </div>\n",
       "  </div>\n"
      ],
      "text/plain": [
       "   a  b  C\n",
       "0  1 -2  8\n",
       "1  0  7  5\n",
       "2  0  8 -1"
      ]
     },
     "execution_count": 27,
     "metadata": {},
     "output_type": "execute_result"
    }
   ],
   "source": [
    "def pandas_dataframe(df,column_name):\n",
    "  df[column_name]=np.where(df[column_name]<0,0,df[column_name])\n",
    "  return df\n",
    "data=pd.DataFrame({'a':[1,-8,-9],\n",
    "                   'b':[-2,7,8],\n",
    "                   'C':[8,5,-1]}\n",
    ")\n",
    "pandas_dataframe(data,'a')"
   ]
  },
  {
   "cell_type": "markdown",
   "metadata": {
    "id": "MHbPePR3FEoM"
   },
   "source": [
    "# Q.26 Access the 3rd element from the given Numpy array\n",
    "  arr = np.array([10, 20, 30, 40, 50])"
   ]
  },
  {
   "cell_type": "code",
   "execution_count": null,
   "metadata": {
    "colab": {
     "base_uri": "https://localhost:8080/"
    },
    "executionInfo": {
     "elapsed": 469,
     "status": "ok",
     "timestamp": 1719984914301,
     "user": {
      "displayName": "Dhruv Gupta",
      "userId": "01321120305062122218"
     },
     "user_tz": -330
    },
    "id": "pX_4kLSUjk5n",
    "outputId": "0367028e-0b0a-4dad-eb8f-759b242d1030"
   },
   "outputs": [
    {
     "data": {
      "text/plain": [
       "30"
      ]
     },
     "execution_count": 28,
     "metadata": {},
     "output_type": "execute_result"
    }
   ],
   "source": [
    "arr=np.array([10,20,30,40,50])\n",
    "arr[2]"
   ]
  },
  {
   "cell_type": "markdown",
   "metadata": {
    "id": "GQjDWgXDF1GS"
   },
   "source": [
    "# Q.27 Retrieve the element at index (1, 2) from the 2D NumPy array\n",
    "arr_2d = np.array([[1, 2, 3],\n",
    "                   [4, 5, 6],\n",
    "                   [7, 8, 9]])"
   ]
  },
  {
   "cell_type": "code",
   "execution_count": null,
   "metadata": {
    "colab": {
     "base_uri": "https://localhost:8080/"
    },
    "executionInfo": {
     "elapsed": 677,
     "status": "ok",
     "timestamp": 1719985130926,
     "user": {
      "displayName": "Dhruv Gupta",
      "userId": "01321120305062122218"
     },
     "user_tz": -330
    },
    "id": "1kwqaOH2FvmG",
    "outputId": "7c559bc9-8962-4d3e-bbd9-a7f841a27a76"
   },
   "outputs": [
    {
     "data": {
      "text/plain": [
       "6"
      ]
     },
     "execution_count": 30,
     "metadata": {},
     "output_type": "execute_result"
    }
   ],
   "source": [
    "arr_2d = np.array([[1, 2,3],[4, 5, 6],[7, 8, 9]])\n",
    "arr_2d[1][2]"
   ]
  },
  {
   "cell_type": "markdown",
   "metadata": {
    "id": "BPgydgEGG3XM"
   },
   "source": [
    "# Q.28  Using boolean indexing, extract elements greater than 5 from the given numpy array\n",
    "arr=np.array([3, 8, 2, 10, 5, 7])"
   ]
  },
  {
   "cell_type": "code",
   "execution_count": null,
   "metadata": {
    "colab": {
     "base_uri": "https://localhost:8080/"
    },
    "executionInfo": {
     "elapsed": 518,
     "status": "ok",
     "timestamp": 1719985791474,
     "user": {
      "displayName": "Dhruv Gupta",
      "userId": "01321120305062122218"
     },
     "user_tz": -330
    },
    "id": "D84SQHLoGcRN",
    "outputId": "932f86b7-90d3-450c-957e-1203f9b5eb8f"
   },
   "outputs": [
    {
     "data": {
      "text/plain": [
       "array([ 8, 10,  7])"
      ]
     },
     "execution_count": 37,
     "metadata": {},
     "output_type": "execute_result"
    }
   ],
   "source": [
    "arr=np.array([3, 8, 2, 10, 5, 7])\n",
    "p=arr>5#boolean indexing\n",
    "r=arr[p]\n",
    "r"
   ]
  },
  {
   "cell_type": "markdown",
   "metadata": {
    "id": "rHNBJKbHJOd8"
   },
   "source": [
    "# Q.29 Perform basic slicing to extract elements from index 2 to 5 (inclusive) from the given NumPy array.\n",
    "arr= np.array([1, 2, 3, 4, 5, 6, 7, 8, 9])"
   ]
  },
  {
   "cell_type": "code",
   "execution_count": null,
   "metadata": {
    "colab": {
     "base_uri": "https://localhost:8080/"
    },
    "executionInfo": {
     "elapsed": 632,
     "status": "ok",
     "timestamp": 1719985990614,
     "user": {
      "displayName": "Dhruv Gupta",
      "userId": "01321120305062122218"
     },
     "user_tz": -330
    },
    "id": "6A4tSLRkIKZ_",
    "outputId": "70e4ef3c-a54d-4189-95ad-9284785972c7"
   },
   "outputs": [
    {
     "data": {
      "text/plain": [
       "array([3, 4, 5, 6])"
      ]
     },
     "execution_count": 38,
     "metadata": {},
     "output_type": "execute_result"
    }
   ],
   "source": [
    "arr=np.array([1, 2, 3, 4, 5, 6, 7, 8, 9])\n",
    "arr[2:6]"
   ]
  },
  {
   "cell_type": "markdown",
   "metadata": {
    "id": "Mz1jz5o-J7ax"
   },
   "source": [
    "# Q.30  Slice the 2D NumPy array to extract the sub-array `[[2, 3], [5, 6]]` from the given array.\n",
    "arr_2d = np.array([[1, 2, 3],\n",
    "                   [4, 5, 6],\n",
    "                   [7, 8, 9]])"
   ]
  },
  {
   "cell_type": "code",
   "execution_count": null,
   "metadata": {
    "colab": {
     "base_uri": "https://localhost:8080/"
    },
    "executionInfo": {
     "elapsed": 1625,
     "status": "ok",
     "timestamp": 1719986810701,
     "user": {
      "displayName": "Dhruv Gupta",
      "userId": "01321120305062122218"
     },
     "user_tz": -330
    },
    "id": "39mhugVZJ2Zt",
    "outputId": "0c066a3c-d46e-428d-8861-db4d9323b102"
   },
   "outputs": [
    {
     "data": {
      "text/plain": [
       "array([[2, 3],\n",
       "       [5, 6]])"
      ]
     },
     "execution_count": 48,
     "metadata": {},
     "output_type": "execute_result"
    }
   ],
   "source": [
    "arr_2d = np.array([[1, 2, 3],[4,5,6],[7, 8, 9]])\n",
    "result=arr_2d[:2,1:3]\n",
    "result\n"
   ]
  },
  {
   "cell_type": "markdown",
   "metadata": {
    "id": "aGgvM6AwNVfX"
   },
   "source": [
    "# Q.31 Write a NumPy function to extract elements in specific order from a given 2D array based on indices provided in another array"
   ]
  },
  {
   "cell_type": "code",
   "execution_count": null,
   "metadata": {
    "colab": {
     "base_uri": "https://localhost:8080/"
    },
    "executionInfo": {
     "elapsed": 4,
     "status": "ok",
     "timestamp": 1720075107934,
     "user": {
      "displayName": "Dhruv Gupta",
      "userId": "01321120305062122218"
     },
     "user_tz": -330
    },
    "id": "_kkABKSQLSb9",
    "outputId": "71545864-ac27-444b-d80c-a54868fa354a"
   },
   "outputs": [
    {
     "data": {
      "text/plain": [
       "array([[1],\n",
       "       [7],\n",
       "       [5]])"
      ]
     },
     "execution_count": 105,
     "metadata": {},
     "output_type": "execute_result"
    }
   ],
   "source": [
    "arr=np.array([[1,2,3,4],\n",
    "              [9,7,5,3],\n",
    "              [1,4,5,6]])\n",
    "idx=np.array([[0],[1],[2]])\n",
    "def extract_elements():\n",
    "  return arr[idx,idx]\n",
    "extract_elements()\n",
    "\n"
   ]
  },
  {
   "cell_type": "markdown",
   "metadata": {
    "id": "dKnp2-J4-2iI"
   },
   "source": [
    "# Q.32 Create a NumPy function that filters elements greater than a threshold from a given 1D array using boolean indexing.\n"
   ]
  },
  {
   "cell_type": "code",
   "execution_count": null,
   "metadata": {
    "colab": {
     "base_uri": "https://localhost:8080/"
    },
    "executionInfo": {
     "elapsed": 445,
     "status": "ok",
     "timestamp": 1720068203494,
     "user": {
      "displayName": "Dhruv Gupta",
      "userId": "01321120305062122218"
     },
     "user_tz": -330
    },
    "id": "WzYsduRG9Ks_",
    "outputId": "4eedbc53-3fe8-442b-8e1f-110c179be63e"
   },
   "outputs": [
    {
     "name": "stdout",
     "output_type": "stream",
     "text": [
      "[False False False  True False False]\n"
     ]
    },
    {
     "data": {
      "text/plain": [
       "array([10])"
      ]
     },
     "execution_count": 34,
     "metadata": {},
     "output_type": "execute_result"
    }
   ],
   "source": [
    "arr=np.array([3, 8, 2, 10, 5, 7])\n",
    "def filter_elements(threshold):\n",
    "  p=arr>threshold\n",
    "  r=arr[p]\n",
    "  print(p)\n",
    "  return r\n",
    "filter_elements(9)"
   ]
  },
  {
   "cell_type": "markdown",
   "metadata": {
    "id": "a-kiAEfPDn8E"
   },
   "source": [
    "# Q.33 Develop a NumPy function that extracts specific elements from a 3D array using indices provided in three separate arrays for each dimension."
   ]
  },
  {
   "cell_type": "code",
   "execution_count": null,
   "metadata": {
    "colab": {
     "base_uri": "https://localhost:8080/"
    },
    "executionInfo": {
     "elapsed": 507,
     "status": "ok",
     "timestamp": 1720077736416,
     "user": {
      "displayName": "Dhruv Gupta",
      "userId": "01321120305062122218"
     },
     "user_tz": -330
    },
    "id": "9kyF34RoFWy8",
    "outputId": "857e03cb-83ad-4998-baaf-94e63f7c7e6d"
   },
   "outputs": [
    {
     "data": {
      "text/plain": [
       "array([5, 4])"
      ]
     },
     "execution_count": 113,
     "metadata": {},
     "output_type": "execute_result"
    }
   ],
   "source": [
    "def extract_element(arr,index1,index2,index3):\n",
    "  return arr[index1,index2,index3]\n",
    "arr=np.array([[[2,9],[0,7]],\n",
    "              [[3,5],[8,1]],\n",
    "              [[3,0],[4,2]]])\n",
    "index1=np.array([1,2])\n",
    "index2=np.array([0,1])\n",
    "index3=np.array([1,0])\n",
    "extract_element(arr,index1,index2,index3)"
   ]
  },
  {
   "cell_type": "markdown",
   "metadata": {
    "id": "5r6dbX8bFX4R"
   },
   "source": [
    "# Q.34 Write a NumPy function that returns elements from an array where both two conditions are satisfied using boolean indexing."
   ]
  },
  {
   "cell_type": "code",
   "execution_count": null,
   "metadata": {
    "colab": {
     "base_uri": "https://localhost:8080/"
    },
    "executionInfo": {
     "elapsed": 511,
     "status": "ok",
     "timestamp": 1720110926898,
     "user": {
      "displayName": "Dhruv Gupta",
      "userId": "01321120305062122218"
     },
     "user_tz": -330
    },
    "id": "fZlnvkE5_diX",
    "outputId": "537a2b04-594a-4118-c0c7-421fd8785ef8"
   },
   "outputs": [
    {
     "name": "stdout",
     "output_type": "stream",
     "text": [
      "[array([False,  True,  True, False, False,  True])]\n",
      "[3 4 8]\n"
     ]
    }
   ],
   "source": [
    "\n",
    "def return_array(arr,condition1,condition2):\n",
    "  print([condition1 & condition2])#for result in boolean\n",
    "  print(arr[condition1 & condition2])#for both condition to be satisfied use '&'\n",
    "cond1=arr>2\n",
    "cond2=arr<9\n",
    "arr=np.array([2,3,4,0,9,8])\n",
    "return_array(arr,cond1,cond2)\n"
   ]
  },
  {
   "cell_type": "markdown",
   "metadata": {
    "id": "-3OkgnMMKPJ1"
   },
   "source": [
    "# Q.35 Create a NumPy function that extracts elements from a 2D array using row and column indices provided in separate arrays."
   ]
  },
  {
   "cell_type": "code",
   "execution_count": null,
   "metadata": {
    "colab": {
     "base_uri": "https://localhost:8080/"
    },
    "executionInfo": {
     "elapsed": 490,
     "status": "ok",
     "timestamp": 1720111192657,
     "user": {
      "displayName": "Dhruv Gupta",
      "userId": "01321120305062122218"
     },
     "user_tz": -330
    },
    "id": "8rNtJ8USIRxm",
    "outputId": "54d19515-0f5a-4e6e-e2bb-ec47a08247aa"
   },
   "outputs": [
    {
     "data": {
      "text/plain": [
       "array([2])"
      ]
     },
     "execution_count": 32,
     "metadata": {},
     "output_type": "execute_result"
    }
   ],
   "source": [
    "def elements(arr,row,col):\n",
    "  return arr[row,col]\n",
    "arr=np.array([[1,2],[5,6]])\n",
    "row=np.array([0])\n",
    "col=np.array([1])\n",
    "elements(arr,row,col)"
   ]
  },
  {
   "cell_type": "markdown",
   "metadata": {
    "id": "AxXkk_nmKiIs"
   },
   "source": [
    "# Q.36 Given an array arr of shape (3, 3), add a scalar value of 5 to each element using NumPy broadcasting."
   ]
  },
  {
   "cell_type": "code",
   "execution_count": null,
   "metadata": {
    "colab": {
     "base_uri": "https://localhost:8080/"
    },
    "executionInfo": {
     "elapsed": 455,
     "status": "ok",
     "timestamp": 1720313564313,
     "user": {
      "displayName": "Dhruv Gupta",
      "userId": "01321120305062122218"
     },
     "user_tz": -330
    },
    "id": "LXdoVYnLKhPN",
    "outputId": "df3e3df9-783c-42cb-b7eb-f18f4f3f9f0e"
   },
   "outputs": [
    {
     "data": {
      "text/plain": [
       "array([[ 6,  7,  8],\n",
       "       [ 9, 11, 12],\n",
       "       [10,  5, 14]])"
      ]
     },
     "execution_count": 37,
     "metadata": {},
     "output_type": "execute_result"
    }
   ],
   "source": [
    "arr=np.array([[1,2,3],\n",
    "             [4,6,7,],\n",
    "             [5,0,9]])\n",
    "arr+5#by using broadcasting\n"
   ]
  },
  {
   "cell_type": "markdown",
   "metadata": {
    "id": "IgmXhXEwMnSu"
   },
   "source": [
    "# Q.37 Consider two arrays arr1 of shape (1, 3) and arr2 of shape (3, 4). Multiply each row of arr2 by the corresponding element in arr1 using NumPy broadcasting"
   ]
  },
  {
   "cell_type": "code",
   "execution_count": null,
   "metadata": {
    "colab": {
     "base_uri": "https://localhost:8080/"
    },
    "executionInfo": {
     "elapsed": 514,
     "status": "ok",
     "timestamp": 1720112130842,
     "user": {
      "displayName": "Dhruv Gupta",
      "userId": "01321120305062122218"
     },
     "user_tz": -330
    },
    "id": "_015iV_iMQuh",
    "outputId": "1df924d3-8d19-4aa8-f916-fcbaaa184415"
   },
   "outputs": [
    {
     "data": {
      "text/plain": [
       "array([[ 8,  9,  0,  7],\n",
       "       [ 2,  4,  6, 10],\n",
       "       [ 0, 15, 18, 21]])"
      ]
     },
     "execution_count": 45,
     "metadata": {},
     "output_type": "execute_result"
    }
   ],
   "source": [
    "arr1=np.array([[1,2,3]])\n",
    "arr2=np.array([[8,9,0,7],\n",
    "              [1,2,3,5],\n",
    "              [0,5,6,7]])\n",
    "arr2*arr1.T"
   ]
  },
  {
   "cell_type": "markdown",
   "metadata": {
    "id": "82MqWUZPOlak"
   },
   "source": [
    "# Q.38 Given a 1D array arr1 of shape (1, 4) and a 2D array arr2 of shape (4, 3), add arr1 to each row of arr2 using NumPy broadcasting."
   ]
  },
  {
   "cell_type": "code",
   "execution_count": null,
   "metadata": {
    "colab": {
     "base_uri": "https://localhost:8080/"
    },
    "executionInfo": {
     "elapsed": 673,
     "status": "ok",
     "timestamp": 1720071374464,
     "user": {
      "displayName": "Dhruv Gupta",
      "userId": "01321120305062122218"
     },
     "user_tz": -330
    },
    "id": "Ew6AHtLwNkjW",
    "outputId": "390b6f1d-a3da-42ee-85f1-bfd87bd99704"
   },
   "outputs": [
    {
     "data": {
      "text/plain": [
       "array([[ 9, 11,  3, 15],\n",
       "       [ 2,  4,  6, 13],\n",
       "       [ 1,  7,  9, 15],\n",
       "       [ 9,  9,  9, 13]])"
      ]
     },
     "execution_count": 49,
     "metadata": {},
     "output_type": "execute_result"
    }
   ],
   "source": [
    "arr1=np.array([1,2,3,8])\n",
    "arr2=np.array([[8,9,0,7],\n",
    "              [1,2,3,5],\n",
    "              [0,5,6,7],\n",
    "               [8,7,6,5]])\n",
    "a=arr1\n",
    "arr2+a"
   ]
  },
  {
   "cell_type": "markdown",
   "metadata": {
    "id": "aRqQIGZkQhOU"
   },
   "source": [
    "# Q.39 Consider two arrays arr1 of shape (3, 1) and arr2 of shape (1, 3). Add these arrays using NumPy broadcasting."
   ]
  },
  {
   "cell_type": "code",
   "execution_count": null,
   "metadata": {
    "colab": {
     "base_uri": "https://localhost:8080/"
    },
    "executionInfo": {
     "elapsed": 444,
     "status": "ok",
     "timestamp": 1720071780564,
     "user": {
      "displayName": "Dhruv Gupta",
      "userId": "01321120305062122218"
     },
     "user_tz": -330
    },
    "id": "H75M_EfTPcse",
    "outputId": "3a997edd-8ff4-4798-a912-6a4017a552c4"
   },
   "outputs": [
    {
     "data": {
      "text/plain": [
       "array([[ 5,  6,  7],\n",
       "       [ 7,  8,  9],\n",
       "       [ 8,  9, 10]])"
      ]
     },
     "execution_count": 60,
     "metadata": {},
     "output_type": "execute_result"
    }
   ],
   "source": [
    "arr1=np.array([[4],\n",
    "              [6],\n",
    "              [7]])\n",
    "arr2=np.array([1,2,3])\n",
    "arr1+arr2"
   ]
  },
  {
   "cell_type": "markdown",
   "metadata": {
    "id": "H6tqfZJoRVJ_"
   },
   "source": [
    "# Q.40 Given arrays arr1 of shape (2, 3) and arr2 of shape (2, 2), perform multiplication using NumPy broadcasting. Handle the shape incompatibility."
   ]
  },
  {
   "cell_type": "code",
   "execution_count": null,
   "metadata": {
    "colab": {
     "base_uri": "https://localhost:8080/"
    },
    "executionInfo": {
     "elapsed": 460,
     "status": "ok",
     "timestamp": 1720310897150,
     "user": {
      "displayName": "Dhruv Gupta",
      "userId": "01321120305062122218"
     },
     "user_tz": -330
    },
    "id": "s1M51B7oRUL_",
    "outputId": "c7d4e885-cdab-4e49-a4fd-50c85b6dfc51"
   },
   "outputs": [
    {
     "data": {
      "text/plain": [
       "array([[[ 6, 16],\n",
       "        [ 7, 18],\n",
       "        [ 8,  0]],\n",
       "\n",
       "       [[18, 32],\n",
       "        [21, 36],\n",
       "        [24,  0]]])"
      ]
     },
     "execution_count": 7,
     "metadata": {},
     "output_type": "execute_result"
    }
   ],
   "source": [
    "arr1=np.array([[6,7,8],\n",
    "              [8,9,0]])\n",
    "arr2=np.array([[1,2],\n",
    "       [3,4]])\n",
    "\n",
    "arr1.T*arr2[:,np.newaxis]"
   ]
  },
  {
   "cell_type": "markdown",
   "metadata": {
    "id": "AUFzbBphT-Bl"
   },
   "source": [
    "# Q.41  Calculate column wise mean for the given array:\n",
    "arr = np.array([[1, 2, 3], [4, 5, 6]])"
   ]
  },
  {
   "cell_type": "code",
   "execution_count": null,
   "metadata": {
    "colab": {
     "base_uri": "https://localhost:8080/"
    },
    "executionInfo": {
     "elapsed": 480,
     "status": "ok",
     "timestamp": 1720140279737,
     "user": {
      "displayName": "Dhruv Gupta",
      "userId": "01321120305062122218"
     },
     "user_tz": -330
    },
    "id": "JLly1EKcyySD",
    "outputId": "0530fda2-f1b7-44d5-99e2-c424fee1d46c"
   },
   "outputs": [
    {
     "data": {
      "text/plain": [
       "array([2.5, 3.5, 4.5])"
      ]
     },
     "execution_count": 12,
     "metadata": {},
     "output_type": "execute_result"
    }
   ],
   "source": [
    "arr = np.array([[1, 2, 3],\n",
    "               [4, 5, 6]])\n",
    "np.mean(arr,axis=0)"
   ]
  },
  {
   "cell_type": "markdown",
   "metadata": {
    "id": "jRCg2VUFXFDC"
   },
   "source": [
    "# Q.42. Find maximum value in each row of the given array:\n",
    "arr = np.array([[1, 2, 3], [4, 5, 6]])"
   ]
  },
  {
   "cell_type": "code",
   "execution_count": null,
   "metadata": {
    "colab": {
     "base_uri": "https://localhost:8080/"
    },
    "executionInfo": {
     "elapsed": 675,
     "status": "ok",
     "timestamp": 1720140551272,
     "user": {
      "displayName": "Dhruv Gupta",
      "userId": "01321120305062122218"
     },
     "user_tz": -330
    },
    "id": "I1P31fwKVO_X",
    "outputId": "e7f9033b-baf2-4e48-e226-6387bf601b34"
   },
   "outputs": [
    {
     "data": {
      "text/plain": [
       "array([3, 6])"
      ]
     },
     "execution_count": 14,
     "metadata": {},
     "output_type": "execute_result"
    }
   ],
   "source": [
    "arr = np.array([[1, 2, 3], [4, 5, 6]])\n",
    "arr.max(axis=1)#for maximum value in each row"
   ]
  },
  {
   "cell_type": "markdown",
   "metadata": {
    "id": "5O_qsSYPXnm7"
   },
   "source": [
    "# Q.43  For the given array, find indices of maximum value in each column.\n",
    "arr = np.array([[1, 2, 3], [4, 5, 6]])"
   ]
  },
  {
   "cell_type": "code",
   "execution_count": null,
   "metadata": {
    "colab": {
     "base_uri": "https://localhost:8080/"
    },
    "executionInfo": {
     "elapsed": 752,
     "status": "ok",
     "timestamp": 1720141080479,
     "user": {
      "displayName": "Dhruv Gupta",
      "userId": "01321120305062122218"
     },
     "user_tz": -330
    },
    "id": "ss4Y_aw3XY7Y",
    "outputId": "54f9f7eb-4d42-4b90-bc60-1456277bf75b"
   },
   "outputs": [
    {
     "data": {
      "text/plain": [
       "array([1, 1, 1])"
      ]
     },
     "execution_count": 25,
     "metadata": {},
     "output_type": "execute_result"
    }
   ],
   "source": [
    "arr = np.array([[1, 2, 3], [4, 5, 6]])\n",
    "arr.argmax(axis=0)#for indices of max values in each column"
   ]
  },
  {
   "cell_type": "markdown",
   "metadata": {
    "id": "LAkW9hP6aSO1"
   },
   "source": [
    "# Q.44 For the given array, apply custom function to calculate moving sum along rows.\n",
    "arr = np.array([[1, 2, 3], [4,5,6]])"
   ]
  },
  {
   "cell_type": "code",
   "execution_count": null,
   "metadata": {
    "colab": {
     "base_uri": "https://localhost:8080/"
    },
    "executionInfo": {
     "elapsed": 5,
     "status": "ok",
     "timestamp": 1720142643616,
     "user": {
      "displayName": "Dhruv Gupta",
      "userId": "01321120305062122218"
     },
     "user_tz": -330
    },
    "id": "ygLJDDL_YDlW",
    "outputId": "6d6ea385-f2e9-436d-e7d1-0be2cfa53224"
   },
   "outputs": [
    {
     "data": {
      "text/plain": [
       "array([[ 1,  3,  6],\n",
       "       [ 4,  9, 15]])"
      ]
     },
     "execution_count": 32,
     "metadata": {},
     "output_type": "execute_result"
    }
   ],
   "source": [
    "arr = np.array([[1, 2, 3],\n",
    "                [4,5,6]])\n",
    "def moving_sum():\n",
    "  return arr.cumsum(axis=1)#for calculating moving sum along rows\n",
    "moving_sum()\n",
    "\n"
   ]
  },
  {
   "cell_type": "markdown",
   "metadata": {
    "id": "KAhFRgy8f9HI"
   },
   "source": [
    "# Q.45 In  the given array, check if all elements in each column are even.\n",
    "arr = np.array([[2, 4, 6], [3, 5, 7]])\n"
   ]
  },
  {
   "cell_type": "code",
   "execution_count": null,
   "metadata": {
    "colab": {
     "base_uri": "https://localhost:8080/"
    },
    "executionInfo": {
     "elapsed": 508,
     "status": "ok",
     "timestamp": 1720143500373,
     "user": {
      "displayName": "Dhruv Gupta",
      "userId": "01321120305062122218"
     },
     "user_tz": -330
    },
    "id": "y0Orav-IcGi4",
    "outputId": "18478a78-e051-4fb8-e182-fa67e1239423"
   },
   "outputs": [
    {
     "data": {
      "text/plain": [
       "array([False, False, False])"
      ]
     },
     "execution_count": 47,
     "metadata": {},
     "output_type": "execute_result"
    }
   ],
   "source": [
    "arr = np.array([[2, 4, 6], [3, 5, 7]])\n",
    "np.all(arr%2==0,axis=0)"
   ]
  },
  {
   "cell_type": "markdown",
   "metadata": {
    "id": "xFOGuQYCi9Os"
   },
   "source": [
    "# Q.46 Given a NumPy array arr, reshape it into a matrix of dimensions `m` rows and `n` columns. Return the reshaped matrix.\n",
    "original_array = np.array([1, 2, 3, 4, 5, 6])"
   ]
  },
  {
   "cell_type": "code",
   "execution_count": null,
   "metadata": {
    "colab": {
     "base_uri": "https://localhost:8080/"
    },
    "executionInfo": {
     "elapsed": 7619,
     "status": "ok",
     "timestamp": 1720145266744,
     "user": {
      "displayName": "Dhruv Gupta",
      "userId": "01321120305062122218"
     },
     "user_tz": -330
    },
    "id": "WlM_biFVgsyQ",
    "outputId": "32f2ce86-97ce-4a3c-fcee-9a9ac5f66806"
   },
   "outputs": [
    {
     "name": "stdout",
     "output_type": "stream",
     "text": [
      "Enter number of rows:3\n",
      "Enter number of columns:2\n",
      "[[1 2]\n",
      " [3 4]\n",
      " [5 6]]\n"
     ]
    }
   ],
   "source": [
    "original_array = np.array([1, 2, 3, 4, 5, 6])\n",
    "m=int(input('Enter number of rows:'))\n",
    "n=int(input('Enter number of columns:'))\n",
    "if m*n==original_array.size:\n",
    "  print(np.matrix(original_array.reshape(m,n)))\n",
    "else:\n",
    "  print('cannot reshaped')\n"
   ]
  },
  {
   "cell_type": "markdown",
   "metadata": {
    "id": "9qei8xkFlOSu"
   },
   "source": [
    "# Q.47 Create a function that takes a matrix as input and returns the flattened array.\n",
    "input_matrix = np.array([[1, 2, 3], [4, 5, 6]])"
   ]
  },
  {
   "cell_type": "code",
   "execution_count": null,
   "metadata": {
    "colab": {
     "base_uri": "https://localhost:8080/"
    },
    "executionInfo": {
     "elapsed": 4,
     "status": "ok",
     "timestamp": 1720145109421,
     "user": {
      "displayName": "Dhruv Gupta",
      "userId": "01321120305062122218"
     },
     "user_tz": -330
    },
    "id": "ETHPs55ClNGp",
    "outputId": "049fad56-f487-483c-d425-025330a44b04"
   },
   "outputs": [
    {
     "data": {
      "text/plain": [
       "array([1, 2, 3, 4, 5, 6])"
      ]
     },
     "execution_count": 74,
     "metadata": {},
     "output_type": "execute_result"
    }
   ],
   "source": [
    "input_matrix = np.array([[1, 2, 3], [4, 5, 6]])\n",
    "a=lambda input_matrix:input_matrix.flatten()#function to flatten the given matrix\n",
    "a(input_matrix)"
   ]
  },
  {
   "cell_type": "markdown",
   "metadata": {
    "id": "sub4uMtTpia0"
   },
   "source": [
    "# Q.48 Write a function that concatenates two given arrays along a specified axis.\n",
    "array1 = np.array([[1, 2], [3, 4]])\n",
    "\n",
    "array2 = np.array([[5, 6], [7, 8]])"
   ]
  },
  {
   "cell_type": "code",
   "execution_count": null,
   "metadata": {
    "colab": {
     "base_uri": "https://localhost:8080/"
    },
    "executionInfo": {
     "elapsed": 496,
     "status": "ok",
     "timestamp": 1720154641586,
     "user": {
      "displayName": "Dhruv Gupta",
      "userId": "01321120305062122218"
     },
     "user_tz": -330
    },
    "id": "ZXO5oGuqneXj",
    "outputId": "3b6d4079-aa18-4d8e-9e5e-17ae557d922c"
   },
   "outputs": [
    {
     "data": {
      "text/plain": [
       "array([[1, 2, 5, 6],\n",
       "       [3, 4, 7, 8]])"
      ]
     },
     "execution_count": 7,
     "metadata": {},
     "output_type": "execute_result"
    }
   ],
   "source": [
    "array1 = np.array([[1, 2], [3, 4]])\n",
    "array2 = np.array([[5, 6], [7, 8]])\n",
    "np.concatenate((array1,array2),axis=1)"
   ]
  },
  {
   "cell_type": "markdown",
   "metadata": {
    "id": "k_dsu6kZNRcm"
   },
   "source": [
    "# Q.49  Create a function that splits an array into multiple sub-arrays along a specified axis.\n",
    "original_array = np.array([[1, 2, 3], [4, 5, 6], [7, 8, 9]])"
   ]
  },
  {
   "cell_type": "code",
   "execution_count": null,
   "metadata": {
    "colab": {
     "base_uri": "https://localhost:8080/"
    },
    "executionInfo": {
     "elapsed": 509,
     "status": "ok",
     "timestamp": 1720155534090,
     "user": {
      "displayName": "Dhruv Gupta",
      "userId": "01321120305062122218"
     },
     "user_tz": -330
    },
    "id": "go8tgAfUqEhr",
    "outputId": "18bf7a11-a2cc-468b-848a-51245f4e6ffe"
   },
   "outputs": [
    {
     "data": {
      "text/plain": [
       "[array([[1],\n",
       "        [4],\n",
       "        [7]]),\n",
       " array([[2],\n",
       "        [5],\n",
       "        [8]]),\n",
       " array([[3],\n",
       "        [6],\n",
       "        [9]]),\n",
       " array([], shape=(3, 0), dtype=int64),\n",
       " array([], shape=(3, 0), dtype=int64),\n",
       " array([], shape=(3, 0), dtype=int64)]"
      ]
     },
     "execution_count": 22,
     "metadata": {},
     "output_type": "execute_result"
    }
   ],
   "source": [
    "original_array = np.array([[1, 2, 3],\n",
    "                           [4, 5, 6],\n",
    "                          [7, 8, 9]])\n",
    "new_array=np.array_split(original_array,6,axis=1)#for splitting array into many subarrays along a specified axis\n",
    "new_array"
   ]
  },
  {
   "cell_type": "markdown",
   "metadata": {
    "id": "HWfZRVyYQbZg"
   },
   "source": [
    "# Q.50 Write a function that inserts and then deletes elements from a given array at specified indices.\n",
    "original_array = np.array([1, 2, 3, 4, 5])\n",
    "indices_to_insert = [2, 4]\n",
    "values_to_insert = [10, 11]\n",
    "indices_to_delete = [1,3]"
   ]
  },
  {
   "cell_type": "code",
   "execution_count": null,
   "metadata": {
    "colab": {
     "base_uri": "https://localhost:8080/"
    },
    "executionInfo": {
     "elapsed": 549,
     "status": "ok",
     "timestamp": 1720173041159,
     "user": {
      "displayName": "Dhruv Gupta",
      "userId": "01321120305062122218"
     },
     "user_tz": -330
    },
    "id": "yKVGWDAJbJer",
    "outputId": "9b8dddc8-0ea5-4ef7-9ca7-cd06460bfcd9"
   },
   "outputs": [
    {
     "data": {
      "text/plain": [
       "array([ 1, 10,  4, 11,  5])"
      ]
     },
     "execution_count": 14,
     "metadata": {},
     "output_type": "execute_result"
    }
   ],
   "source": [
    "def elements(a,b,c,d):\n",
    "  p=3\n",
    "  while p>0:\n",
    "    for i,j in zip(b,c):\n",
    "      w=np.insert(a,b,c)\n",
    "      p=p-1\n",
    "  return np.delete(w,d)\n",
    "original_array = np.array([1, 2, 3, 4, 5])\n",
    "indices_to_insert = [2, 4]\n",
    "values_to_insert = [10, 11]\n",
    "indices_to_delete = [1,3]\n",
    "elements(original_array,indices_to_insert,values_to_insert,indices_to_delete)\n"
   ]
  },
  {
   "cell_type": "markdown",
   "metadata": {
    "id": "UUXFRV5Tn6e0"
   },
   "source": [
    "# Q.51 Create a NumPy array `arr1` with random integers and another array `arr2` with integers from 1 to 10. Perform element-wise addition between `arr1` and `arr2`."
   ]
  },
  {
   "cell_type": "code",
   "execution_count": null,
   "metadata": {
    "colab": {
     "base_uri": "https://localhost:8080/"
    },
    "executionInfo": {
     "elapsed": 671,
     "status": "ok",
     "timestamp": 1720162994021,
     "user": {
      "displayName": "Dhruv Gupta",
      "userId": "01321120305062122218"
     },
     "user_tz": -330
    },
    "id": "0xty6CB1d4t6",
    "outputId": "28c2f89b-76e2-4ccd-c16f-7926af1a22f9"
   },
   "outputs": [
    {
     "data": {
      "text/plain": [
       "array([[ 2,  6,  5],\n",
       "       [14,  9, 13],\n",
       "       [ 9, 10,  2]])"
      ]
     },
     "execution_count": 87,
     "metadata": {},
     "output_type": "execute_result"
    }
   ],
   "source": [
    "arr1=np.random.randint(1,10,(3,3))\n",
    "arr2=np.random.randint(1,10,(3,3))\n",
    "arr1+arr2"
   ]
  },
  {
   "cell_type": "markdown",
   "metadata": {
    "id": "KkMCw_tbtlwI"
   },
   "source": [
    "# Q.52 Generate a NumPy array `arr1` with sequential integers from 10 to 1 and another array `arr2` with integers from 1 to 10. Subtract `arr2` from `arr1` element-wise."
   ]
  },
  {
   "cell_type": "code",
   "execution_count": null,
   "metadata": {
    "colab": {
     "base_uri": "https://localhost:8080/"
    },
    "executionInfo": {
     "elapsed": 509,
     "status": "ok",
     "timestamp": 1720173423703,
     "user": {
      "displayName": "Dhruv Gupta",
      "userId": "01321120305062122218"
     },
     "user_tz": -330
    },
    "id": "i-GwthiBs0pk",
    "outputId": "09b10b48-b8a1-4fcc-a0cd-f5e6f14de78d"
   },
   "outputs": [
    {
     "data": {
      "text/plain": [
       "array([ 9,  7,  5,  3,  1, -1, -3, -5, -7, -9])"
      ]
     },
     "execution_count": 19,
     "metadata": {},
     "output_type": "execute_result"
    }
   ],
   "source": [
    "arr1=np.arange(10,0,-1)\n",
    "arr2=np.arange(1,11)\n",
    "arr1-arr2"
   ]
  },
  {
   "cell_type": "markdown",
   "metadata": {
    "id": "Gc3c_gqrU45J"
   },
   "source": [
    "# Q.53 Create a NumPy array `arr1` with random integers and another array `arr2` with integers from 1 to 5. Perform element-wise multiplication between `arr1` and `arr2`."
   ]
  },
  {
   "cell_type": "code",
   "execution_count": null,
   "metadata": {
    "colab": {
     "base_uri": "https://localhost:8080/"
    },
    "executionInfo": {
     "elapsed": 570,
     "status": "ok",
     "timestamp": 1720187569810,
     "user": {
      "displayName": "Dhruv Gupta",
      "userId": "01321120305062122218"
     },
     "user_tz": -330
    },
    "id": "NP12sllzUmUm",
    "outputId": "057f4300-9188-4668-80f0-457d5db133df"
   },
   "outputs": [
    {
     "data": {
      "text/plain": [
       "array([[3, 6],\n",
       "       [6, 3]])"
      ]
     },
     "execution_count": 5,
     "metadata": {},
     "output_type": "execute_result"
    }
   ],
   "source": [
    "arr1=np.random.randint(1,5,(2,2))\n",
    "arr2=np.random.randint(1,5,(2,2))\n",
    "arr1*arr2"
   ]
  },
  {
   "cell_type": "markdown",
   "metadata": {
    "id": "vm4x4teBK29Q"
   },
   "source": [
    "# Q.54 Generate a NumPy array `arr1` with even integers from 2 to 10 and another array `arr2` with integers from 1 to 5. Perform element-wise division of `arr1` by `arr2`."
   ]
  },
  {
   "cell_type": "code",
   "execution_count": null,
   "metadata": {
    "colab": {
     "base_uri": "https://localhost:8080/"
    },
    "executionInfo": {
     "elapsed": 464,
     "status": "ok",
     "timestamp": 1720188558871,
     "user": {
      "displayName": "Dhruv Gupta",
      "userId": "01321120305062122218"
     },
     "user_tz": -330
    },
    "id": "Th92u-RQKwT3",
    "outputId": "1034c230-fa3b-434b-a2b7-a28ac1fe5c3f"
   },
   "outputs": [
    {
     "data": {
      "text/plain": [
       "array([2., 2., 2., 2., 2.])"
      ]
     },
     "execution_count": 26,
     "metadata": {},
     "output_type": "execute_result"
    }
   ],
   "source": [
    "arr1=np.arange(2,11,2)\n",
    "arr2=np.arange(1,6)\n",
    "\n",
    "arr1/arr2"
   ]
  },
  {
   "cell_type": "markdown",
   "metadata": {
    "id": "pQzE_FNjOq7m"
   },
   "source": [
    "# Q.55  Create a NumPy array `arr1` with integers from 1 to 5 and another array `arr2` with the same numbers reversed. Calculate the exponentiation of `arr1` raised to the power of `arr2` element-wise."
   ]
  },
  {
   "cell_type": "code",
   "execution_count": null,
   "metadata": {
    "colab": {
     "base_uri": "https://localhost:8080/"
    },
    "executionInfo": {
     "elapsed": 6,
     "status": "ok",
     "timestamp": 1720189505814,
     "user": {
      "displayName": "Dhruv Gupta",
      "userId": "01321120305062122218"
     },
     "user_tz": -330
    },
    "id": "DedQyiEBPzSP",
    "outputId": "c80e8634-0cca-40ff-eafc-f4a2dcbd67bd"
   },
   "outputs": [
    {
     "name": "stdout",
     "output_type": "stream",
     "text": [
      "[1 2 3 4 5]\n",
      "[5 4 3 2 1]\n"
     ]
    },
    {
     "data": {
      "text/plain": [
       "array([ 1, 16, 27, 16,  5])"
      ]
     },
     "execution_count": 46,
     "metadata": {},
     "output_type": "execute_result"
    }
   ],
   "source": [
    "arr1=np.arange(1,6)\n",
    "arr2=np.arange(5,0,-1)\n",
    "arr1**arr2\n"
   ]
  },
  {
   "cell_type": "markdown",
   "metadata": {
    "id": "fQYIxQ2MShK4"
   },
   "source": [
    "# Q.56  Write a function that counts the occurrences of a specific substring within a NumPy array of strings.\n",
    "arr = np.array(['hello', 'world', 'hello', 'numpy', 'hello'])"
   ]
  },
  {
   "cell_type": "code",
   "execution_count": null,
   "metadata": {
    "colab": {
     "base_uri": "https://localhost:8080/"
    },
    "executionInfo": {
     "elapsed": 642,
     "status": "ok",
     "timestamp": 1720259383306,
     "user": {
      "displayName": "Dhruv Gupta",
      "userId": "01321120305062122218"
     },
     "user_tz": -330
    },
    "id": "XvZ_3hruP0c3",
    "outputId": "54afb482-c816-4af7-c9fc-8db81a93271e"
   },
   "outputs": [
    {
     "data": {
      "text/plain": [
       "array([0, 0, 0, 1, 0])"
      ]
     },
     "execution_count": 22,
     "metadata": {},
     "output_type": "execute_result"
    }
   ],
   "source": [
    "def occurences(arr,substring):\n",
    "  p=np.char.count(arr,substring)#to count the occurences of specific substring within a numpy array of strings\n",
    "  return p\n",
    "\n",
    "arr = np.array(['hello', 'world', 'hello', 'numpy', 'hello'])\n",
    "occurences(arr,'m')\n"
   ]
  },
  {
   "cell_type": "markdown",
   "metadata": {
    "id": "QGplUeDtXRWj"
   },
   "source": [
    "# Q.57 Write a function that extracts uppercase characters from a NumPy array of strings.\n",
    "\n",
    "arr = np.array(['Hello', 'World', 'OpenAI', 'GPT'])"
   ]
  },
  {
   "cell_type": "code",
   "execution_count": null,
   "metadata": {
    "colab": {
     "base_uri": "https://localhost:8080/"
    },
    "executionInfo": {
     "elapsed": 651,
     "status": "ok",
     "timestamp": 1720260769988,
     "user": {
      "displayName": "Dhruv Gupta",
      "userId": "01321120305062122218"
     },
     "user_tz": -330
    },
    "id": "YNZ2inAzTYIk",
    "outputId": "d182e71f-8cbc-4e41-d1c2-ef91fcd2d957"
   },
   "outputs": [
    {
     "data": {
      "text/plain": [
       "['H', 'W', 'O', 'A', 'I', 'G', 'P', 'T']"
      ]
     },
     "execution_count": 36,
     "metadata": {},
     "output_type": "execute_result"
    }
   ],
   "source": [
    "def uppercase_characters(arr):\n",
    "  uppercase=[]\n",
    "  for i in arr:\n",
    "    for s in i:\n",
    "      if s.isupper():\n",
    "        uppercase.append(s)\n",
    "  return uppercase\n",
    "\n",
    "arr = np.array(['Hello', 'World', 'OpenAI', 'GPT'])\n",
    "uppercase_characters(arr)\n",
    "\n"
   ]
  },
  {
   "cell_type": "markdown",
   "metadata": {
    "id": "TaunuBlqXoR-"
   },
   "source": [
    "# Q.58 Write a function that replaces occurrences of a substring in a NumPy array of strings with a new string\n",
    "arr = np.array(['apple', 'banana', 'grape', 'pineapple'])\n"
   ]
  },
  {
   "cell_type": "code",
   "execution_count": null,
   "metadata": {
    "colab": {
     "base_uri": "https://localhost:8080/"
    },
    "executionInfo": {
     "elapsed": 638,
     "status": "ok",
     "timestamp": 1720261138925,
     "user": {
      "displayName": "Dhruv Gupta",
      "userId": "01321120305062122218"
     },
     "user_tz": -330
    },
    "id": "l2t6pSYpXm_Z",
    "outputId": "833c9d90-c74f-40f3-ec6f-72cef3a326eb"
   },
   "outputs": [
    {
     "data": {
      "text/plain": [
       "array(['epple', 'benene', 'grepe', 'pineepple'], dtype='<U9')"
      ]
     },
     "execution_count": 38,
     "metadata": {},
     "output_type": "execute_result"
    }
   ],
   "source": [
    "def replaces(arr,substring,replace_with):\n",
    "  return np.array([s.replace(substring,replace_with) for s in arr])\n",
    "\n",
    "arr = np.array(['apple', 'banana', 'grape', 'pineapple'])\n",
    "\n",
    "replaces(arr,'a','e')"
   ]
  },
  {
   "cell_type": "markdown",
   "metadata": {
    "id": "nPpBU85pYLu0"
   },
   "source": [
    "# Q.59 Write a function that concatenates strings in a NumPy array element-wise.\n",
    "arr1 = np.array(['Hello', 'World'])\n",
    "arr2 = np.array(['Open', 'AI'])"
   ]
  },
  {
   "cell_type": "code",
   "execution_count": null,
   "metadata": {
    "colab": {
     "base_uri": "https://localhost:8080/"
    },
    "executionInfo": {
     "elapsed": 722,
     "status": "ok",
     "timestamp": 1720313811587,
     "user": {
      "displayName": "Dhruv Gupta",
      "userId": "01321120305062122218"
     },
     "user_tz": -330
    },
    "id": "as_3wTUKYnMQ",
    "outputId": "24fb8c50-f1d6-497f-e295-dd0fbca319d6"
   },
   "outputs": [
    {
     "data": {
      "text/plain": [
       "array(['HelloOpen', 'WorldAI'], dtype='<U9')"
      ]
     },
     "execution_count": 39,
     "metadata": {},
     "output_type": "execute_result"
    }
   ],
   "source": [
    "arr1 = np.array(['Hello', 'World'])\n",
    "arr2 = np.array(['Open', 'AI'])\n",
    "def concatenates_strings(a,b):\n",
    "    return np.char.add(arr1,arr2)\n",
    "\n",
    "concatenates_strings(arr1,arr2)"
   ]
  },
  {
   "cell_type": "markdown",
   "metadata": {
    "id": "S29dO4loayCa"
   },
   "source": [
    "# Q.60 Write a function that finds the length of the longest string in a NumPy array.\n",
    "\n",
    "arr = np.array(['apple', 'banana', 'grape', 'pineapple'])"
   ]
  },
  {
   "cell_type": "code",
   "execution_count": null,
   "metadata": {
    "colab": {
     "base_uri": "https://localhost:8080/"
    },
    "executionInfo": {
     "elapsed": 2204,
     "status": "ok",
     "timestamp": 1720194922297,
     "user": {
      "displayName": "Dhruv Gupta",
      "userId": "01321120305062122218"
     },
     "user_tz": -330
    },
    "id": "CdW1xESVYxJS",
    "outputId": "4bf1e3ef-86f3-405e-fcdf-73e483fa83c6"
   },
   "outputs": [
    {
     "data": {
      "text/plain": [
       "9"
      ]
     },
     "execution_count": 99,
     "metadata": {},
     "output_type": "execute_result"
    }
   ],
   "source": [
    "def find_length(arr):\n",
    "  longest_length=max(len(word) for word in arr)\n",
    "  return longest_length\n",
    "arr = np.array(['apple', 'banana', 'grape', 'pineapple'])\n",
    "find_length(['apple', 'banana', 'grape', 'pineapple'])"
   ]
  },
  {
   "cell_type": "markdown",
   "metadata": {
    "id": "Eb49MjMLbCcC"
   },
   "source": [
    "# Q.61  Create a dataset of 100 random integers between 1 and 1000. Compute the mean, median, variance, and standard deviation of the dataset using NumPy's functions."
   ]
  },
  {
   "cell_type": "code",
   "execution_count": null,
   "metadata": {
    "colab": {
     "base_uri": "https://localhost:8080/"
    },
    "executionInfo": {
     "elapsed": 553,
     "status": "ok",
     "timestamp": 1720192212334,
     "user": {
      "displayName": "Dhruv Gupta",
      "userId": "01321120305062122218"
     },
     "user_tz": -330
    },
    "id": "e-N-Te4ebBLA",
    "outputId": "ed46a400-e5a7-4cdd-be8b-ee3cbd9533ae"
   },
   "outputs": [
    {
     "name": "stdout",
     "output_type": "stream",
     "text": [
      "488.55\n",
      "521.5\n",
      "79889.3675\n",
      "282.64707233580185\n"
     ]
    }
   ],
   "source": [
    "\n",
    "arr=np.random.randint(1,1000,(10,10))\n",
    "print(arr.mean())\n",
    "print(np.median(arr))\n",
    "print(arr.var())\n",
    "print(arr.std())"
   ]
  },
  {
   "cell_type": "markdown",
   "metadata": {
    "id": "9ealyVjicGSd"
   },
   "source": [
    "# Q.62  Generate an array of 50 random numbers between 1 and 100. Find the 25th and 75th percentiles of the datasets."
   ]
  },
  {
   "cell_type": "code",
   "execution_count": null,
   "metadata": {
    "colab": {
     "base_uri": "https://localhost:8080/"
    },
    "executionInfo": {
     "elapsed": 482,
     "status": "ok",
     "timestamp": 1720274936843,
     "user": {
      "displayName": "Dhruv Gupta",
      "userId": "01321120305062122218"
     },
     "user_tz": -330
    },
    "id": "cIOEJ2cabVeI",
    "outputId": "4097b853-33ad-41f7-ade2-19141d3691ae"
   },
   "outputs": [
    {
     "name": "stdout",
     "output_type": "stream",
     "text": [
      "32.25\n",
      "75.5\n"
     ]
    }
   ],
   "source": [
    "arr=np.random.randint(1,100,(10,5))\n",
    "print(np.percentile(arr,25))\n",
    "print(np.percentile(arr,75))"
   ]
  },
  {
   "cell_type": "markdown",
   "metadata": {
    "id": "zJDzwKZedCVs"
   },
   "source": [
    "# Q.63 Create two arrays representing two sets of variables. Compute the correlation coefficient between these arrays using NumPy's `corrcoef` function."
   ]
  },
  {
   "cell_type": "code",
   "execution_count": null,
   "metadata": {
    "colab": {
     "base_uri": "https://localhost:8080/"
    },
    "executionInfo": {
     "elapsed": 644,
     "status": "ok",
     "timestamp": 1720276124157,
     "user": {
      "displayName": "Dhruv Gupta",
      "userId": "01321120305062122218"
     },
     "user_tz": -330
    },
    "id": "LxD7R4iadBLl",
    "outputId": "6938b12b-52c9-4efc-af72-172cdb7f3872"
   },
   "outputs": [
    {
     "data": {
      "text/plain": [
       "-0.9999999999999999"
      ]
     },
     "execution_count": 15,
     "metadata": {},
     "output_type": "execute_result"
    }
   ],
   "source": [
    "arr1=np.array([[1,2],[9,8]])\n",
    "arr2=np.array([[3,4],[8,6]])\n",
    "\n",
    "np.corrcoef(arr1,arr2)[0,1]\n",
    "\n"
   ]
  },
  {
   "cell_type": "markdown",
   "metadata": {
    "id": "jXUlKLyCdbHj"
   },
   "source": [
    "# Q.64 Create two matrices and perform matrix multiplication using NumPy's `dot` function.\n"
   ]
  },
  {
   "cell_type": "code",
   "execution_count": null,
   "metadata": {
    "colab": {
     "base_uri": "https://localhost:8080/"
    },
    "executionInfo": {
     "elapsed": 753,
     "status": "ok",
     "timestamp": 1720192616544,
     "user": {
      "displayName": "Dhruv Gupta",
      "userId": "01321120305062122218"
     },
     "user_tz": -330
    },
    "id": "yqtCQG9JdaBH",
    "outputId": "a623d80e-57fd-4ad1-bc34-3231a336251b"
   },
   "outputs": [
    {
     "data": {
      "text/plain": [
       "array([[  9,   8,   4],\n",
       "       [ 72,  73, 104]])"
      ]
     },
     "execution_count": 80,
     "metadata": {},
     "output_type": "execute_result"
    }
   ],
   "source": [
    "arr1=np.array([[0,1],\n",
    "              [9,8]])\n",
    "arr2=np.array([[0,1,8],\n",
    "              [9,8,4]])\n",
    "np.dot(arr1,arr2)"
   ]
  },
  {
   "cell_type": "markdown",
   "metadata": {
    "id": "cE44NhgUeGWP"
   },
   "source": [
    "# Q.65 Create an array of 50 integers between 10 and 1000. Calculate the 10th, 50th (median), and 90th percentiles along with the first and third quartiles."
   ]
  },
  {
   "cell_type": "code",
   "execution_count": null,
   "metadata": {
    "colab": {
     "base_uri": "https://localhost:8080/"
    },
    "executionInfo": {
     "elapsed": 626,
     "status": "ok",
     "timestamp": 1720277183956,
     "user": {
      "displayName": "Dhruv Gupta",
      "userId": "01321120305062122218"
     },
     "user_tz": -330
    },
    "id": "mXf92lEXd217",
    "outputId": "ccb9b5f0-e9c0-41ad-ee63-961a0c82268a"
   },
   "outputs": [
    {
     "name": "stdout",
     "output_type": "stream",
     "text": [
      "10th percentile: 96.80000000000001\n",
      "50th(median) percentile: 588.0\n",
      "90th percentile: 927.3\n",
      "first quartile: 240.0\n",
      "third quartile: 769.0\n"
     ]
    }
   ],
   "source": [
    "arr=np.random.randint(10,1000,(2,25))\n",
    "print('10th percentile:',np.percentile(arr,10))\n",
    "print('50th(median) percentile:',np.percentile(arr,50))\n",
    "print('90th percentile:',np.percentile(arr,90))\n",
    "print('first quartile:',np.percentile(arr,25))\n",
    "print('third quartile:',np.percentile(arr,75))"
   ]
  },
  {
   "cell_type": "markdown",
   "metadata": {
    "id": "MaOG0RuHeY0b"
   },
   "source": [
    "# Q.66 Create a NumPy array of integers and find the index of a specific element.\n"
   ]
  },
  {
   "cell_type": "code",
   "execution_count": null,
   "metadata": {
    "colab": {
     "base_uri": "https://localhost:8080/"
    },
    "executionInfo": {
     "elapsed": 880,
     "status": "ok",
     "timestamp": 1720277421501,
     "user": {
      "displayName": "Dhruv Gupta",
      "userId": "01321120305062122218"
     },
     "user_tz": -330
    },
    "id": "mDwvLgnZeYAe",
    "outputId": "b3502a87-e986-4027-94ca-d221c1fa8af2"
   },
   "outputs": [
    {
     "data": {
      "text/plain": [
       "(array([2]),)"
      ]
     },
     "execution_count": 23,
     "metadata": {},
     "output_type": "execute_result"
    }
   ],
   "source": [
    "arr1=np.array([0,6,8,3])\n",
    "element=8\n",
    "np.where(arr1==element)"
   ]
  },
  {
   "cell_type": "markdown",
   "metadata": {
    "id": "qAiLVbVSh3PS"
   },
   "source": [
    "# Q.67 Generate a random NumPy array and sort it in ascending order.\n"
   ]
  },
  {
   "cell_type": "code",
   "execution_count": null,
   "metadata": {
    "colab": {
     "base_uri": "https://localhost:8080/"
    },
    "executionInfo": {
     "elapsed": 600,
     "status": "ok",
     "timestamp": 1720277575959,
     "user": {
      "displayName": "Dhruv Gupta",
      "userId": "01321120305062122218"
     },
     "user_tz": -330
    },
    "id": "wXlci41ykWpm",
    "outputId": "9ac7c679-8afb-4287-c697-3d595df2eb5a"
   },
   "outputs": [
    {
     "data": {
      "text/plain": [
       "array([[3, 4, 7, 7, 7, 8, 8, 8, 9, 9]])"
      ]
     },
     "execution_count": 25,
     "metadata": {},
     "output_type": "execute_result"
    }
   ],
   "source": [
    "arr=np.random.randint(1,10,(1,10))\n",
    "np.sort(arr)"
   ]
  },
  {
   "cell_type": "markdown",
   "metadata": {
    "id": "mUaaeh10iM1_"
   },
   "source": [
    "# Q.68 Filter elements >20  in the given NumPy array.\n",
    "arr = np.array([12, 25, 6, 42, 8, 30])\n"
   ]
  },
  {
   "cell_type": "code",
   "execution_count": null,
   "metadata": {
    "colab": {
     "base_uri": "https://localhost:8080/"
    },
    "executionInfo": {
     "elapsed": 14,
     "status": "ok",
     "timestamp": 1720277824837,
     "user": {
      "displayName": "Dhruv Gupta",
      "userId": "01321120305062122218"
     },
     "user_tz": -330
    },
    "id": "_IWi51_fiF-G",
    "outputId": "8a28b045-eeac-416a-a801-a70feed5b17b"
   },
   "outputs": [
    {
     "data": {
      "text/plain": [
       "array([25, 42, 30])"
      ]
     },
     "execution_count": 26,
     "metadata": {},
     "output_type": "execute_result"
    }
   ],
   "source": [
    "arr = np.array([12, 25, 6, 42, 8, 30])\n",
    "np.extract(arr>20,arr)"
   ]
  },
  {
   "cell_type": "markdown",
   "metadata": {
    "id": "YvZFhJYOjM44"
   },
   "source": [
    "# Q.69 Filter elements which are divisible by 3 from a given NumPy array.\n",
    "arr = np.array([1, 5, 8, 12, 15])\n",
    "\n"
   ]
  },
  {
   "cell_type": "code",
   "execution_count": null,
   "metadata": {
    "colab": {
     "base_uri": "https://localhost:8080/"
    },
    "executionInfo": {
     "elapsed": 510,
     "status": "ok",
     "timestamp": 1720278068866,
     "user": {
      "displayName": "Dhruv Gupta",
      "userId": "01321120305062122218"
     },
     "user_tz": -330
    },
    "id": "4cinEX8ZjHGT",
    "outputId": "fda47e4e-8d38-4bfb-dd41-c058c8e343a4"
   },
   "outputs": [
    {
     "data": {
      "text/plain": [
       "array([12, 15])"
      ]
     },
     "execution_count": 27,
     "metadata": {},
     "output_type": "execute_result"
    }
   ],
   "source": [
    "arr = np.array([1, 5, 8, 12, 15])\n",
    "np.extract(arr%3==0,arr)"
   ]
  },
  {
   "cell_type": "markdown",
   "metadata": {
    "id": "EGhmUG1mkGGV"
   },
   "source": [
    "# Q.70 Filter elements which are ≥ 20 and ≤ 40 from a given NumPy array.\n",
    "arr = np.array([10, 20, 30, 40, 50])\n",
    "\n"
   ]
  },
  {
   "cell_type": "code",
   "execution_count": null,
   "metadata": {
    "colab": {
     "base_uri": "https://localhost:8080/"
    },
    "executionInfo": {
     "elapsed": 488,
     "status": "ok",
     "timestamp": 1720279090612,
     "user": {
      "displayName": "Dhruv Gupta",
      "userId": "01321120305062122218"
     },
     "user_tz": -330
    },
    "id": "FzTFKezkkCch",
    "outputId": "990a598d-4e4a-459a-9715-2568b72eda31"
   },
   "outputs": [
    {
     "name": "stdout",
     "output_type": "stream",
     "text": [
      "[20 30 40]\n"
     ]
    }
   ],
   "source": [
    "arr= np.array([10, 20, 30, 40, 50])\n",
    "modified=[]\n",
    "for i in arr:\n",
    "  if i>=20 and i<=40:\n",
    "    modified.append(i)\n",
    "print(np.array(modified))\n"
   ]
  },
  {
   "cell_type": "markdown",
   "metadata": {
    "id": "HgVqFR4sn--A"
   },
   "source": [
    "# Q.71 For the given NumPy array, check its byte order using the `dtype` attribute byteorder.\n",
    "arr = np.array([1, 2, 3])\n",
    "\n"
   ]
  },
  {
   "cell_type": "code",
   "execution_count": null,
   "metadata": {
    "colab": {
     "base_uri": "https://localhost:8080/",
     "height": 35
    },
    "executionInfo": {
     "elapsed": 516,
     "status": "ok",
     "timestamp": 1720285241271,
     "user": {
      "displayName": "Dhruv Gupta",
      "userId": "01321120305062122218"
     },
     "user_tz": -330
    },
    "id": "Xn4ZJIPKkZPm",
    "outputId": "5bbb493d-7656-4c9f-a936-5783c82027ee"
   },
   "outputs": [
    {
     "data": {
      "application/vnd.google.colaboratory.intrinsic+json": {
       "type": "string"
      },
      "text/plain": [
       "'='"
      ]
     },
     "execution_count": 18,
     "metadata": {},
     "output_type": "execute_result"
    }
   ],
   "source": [
    "import numpy as np\n",
    "arr = np.array([1, 2, 3])\n",
    "\n",
    "arr.dtype.byteorder"
   ]
  },
  {
   "cell_type": "markdown",
   "metadata": {
    "id": "j-8wDJzKpT5w"
   },
   "source": [
    "# Q.72 For the given NumPy array, perform byte swapping in place using `byteswap()`.\n",
    "arr = np.array([1, 2, 3], dtype=np.int32)\n"
   ]
  },
  {
   "cell_type": "code",
   "execution_count": null,
   "metadata": {
    "colab": {
     "base_uri": "https://localhost:8080/"
    },
    "executionInfo": {
     "elapsed": 666,
     "status": "ok",
     "timestamp": 1720284420677,
     "user": {
      "displayName": "Dhruv Gupta",
      "userId": "01321120305062122218"
     },
     "user_tz": -330
    },
    "id": "ooxJZvhxnLNT",
    "outputId": "dae1156e-8bce-464e-c259-df5213cb1145"
   },
   "outputs": [
    {
     "data": {
      "text/plain": [
       "array([16777216, 33554432, 50331648], dtype=int32)"
      ]
     },
     "execution_count": 12,
     "metadata": {},
     "output_type": "execute_result"
    }
   ],
   "source": [
    "arr = np.array([1, 2, 3], dtype=np.int32)\n",
    "arr.byteswap(inplace=True)"
   ]
  },
  {
   "cell_type": "markdown",
   "metadata": {
    "id": "TeSA0HAup3Xf"
   },
   "source": [
    "#  Q.73 For the given NumPy array, swap its byte order without modifying the original array using newbyteorder().\n",
    "arr = np.array([1, 2, 3], dtype=np.int32)\n"
   ]
  },
  {
   "cell_type": "code",
   "execution_count": null,
   "metadata": {
    "colab": {
     "base_uri": "https://localhost:8080/"
    },
    "executionInfo": {
     "elapsed": 621,
     "status": "ok",
     "timestamp": 1720284524330,
     "user": {
      "displayName": "Dhruv Gupta",
      "userId": "01321120305062122218"
     },
     "user_tz": -330
    },
    "id": "A3bxdNmMpwR2",
    "outputId": "030e1c3c-5726-4d4c-e9d2-9005f88b1f73"
   },
   "outputs": [
    {
     "name": "stdout",
     "output_type": "stream",
     "text": [
      "original array : [1 2 3]\n",
      "by swapping byteorder we get array: [16777216 33554432 50331648]\n"
     ]
    }
   ],
   "source": [
    "arr = np.array([1, 2, 3], dtype=np.int32)\n",
    "m=arr.newbyteorder()\n",
    "\n",
    "print('original array :',arr)\n",
    "print('by swapping byteorder we get array:',m)"
   ]
  },
  {
   "cell_type": "markdown",
   "metadata": {
    "id": "j-sQ9h34qFvp"
   },
   "source": [
    "# Q.74 For the given NumPy array and swap its byte order conditionally based on system endianness using newbyteorder().\n",
    "arr = np.array([1, 2, 3], dtype=np.int32)\n"
   ]
  },
  {
   "cell_type": "code",
   "execution_count": null,
   "metadata": {
    "colab": {
     "base_uri": "https://localhost:8080/"
    },
    "executionInfo": {
     "elapsed": 460,
     "status": "ok",
     "timestamp": 1720312066538,
     "user": {
      "displayName": "Dhruv Gupta",
      "userId": "01321120305062122218"
     },
     "user_tz": -330
    },
    "id": "QhRThHOiqFHi",
    "outputId": "26ca7c05-64b8-4150-95c7-14518e059961"
   },
   "outputs": [
    {
     "name": "stdout",
     "output_type": "stream",
     "text": [
      "[16777216 33554432 50331648]\n"
     ]
    }
   ],
   "source": [
    "arr = np.array([1, 2, 3], dtype=np.int32)\n",
    "if arr.dtype.byteorder in ('='):\n",
    "  print(arr.newbyteorder())\n",
    "elif arr.dtype.byteorder in ('<'):\n",
    "  print(arr.newbyteorder())\n",
    "\n",
    "elif arr.dtype.byteorder('>'):\n",
    "  print(arr.newbyteorder())\n",
    "\n",
    "else:\n",
    "  print()\n"
   ]
  },
  {
   "cell_type": "markdown",
   "metadata": {
    "id": "VOh0dJtaqdJv"
   },
   "source": [
    "# Q.75 For the given NumPy array, check if byte swapping is necessary for the current system using `dtype` attribute `byteorder`\n",
    "arr = np.array([1, 2, 3], dtype=np.int32)"
   ]
  },
  {
   "cell_type": "code",
   "execution_count": null,
   "metadata": {
    "colab": {
     "base_uri": "https://localhost:8080/"
    },
    "executionInfo": {
     "elapsed": 478,
     "status": "ok",
     "timestamp": 1720311967399,
     "user": {
      "displayName": "Dhruv Gupta",
      "userId": "01321120305062122218"
     },
     "user_tz": -330
    },
    "id": "ntdnwD91X0Ut",
    "outputId": "69ccdc74-45cc-44ec-f432-5a5208037108"
   },
   "outputs": [
    {
     "name": "stdout",
     "output_type": "stream",
     "text": [
      "no need of byteswapping\n"
     ]
    }
   ],
   "source": [
    "arr = np.array([1, 2, 3], dtype=np.int32)\n",
    "if arr.dtype.byteorder in '>':\n",
    "  print('current system is more endianess,so byte swapping is necessary')\n",
    "elif arr.dtype.byteorder in '<':\n",
    "  print('current system is less endianness,so byte swapping is necessary')\n",
    "elif arr.dtype.byteorder in '=':\n",
    "  print('no need of byteswapping')\n",
    "else:\n",
    "  print()"
   ]
  },
  {
   "cell_type": "markdown",
   "metadata": {
    "id": "P5fLS3dx_lbj"
   },
   "source": [
    "# Q.76 Create a NumPy array `arr1` with values from 1 to 10. Create a copy of `arr1` named `copy_arr` and modify an element in `copy_arr`. Check if modifying `copy_arr` affects `arr1`"
   ]
  },
  {
   "cell_type": "code",
   "execution_count": null,
   "metadata": {
    "colab": {
     "base_uri": "https://localhost:8080/"
    },
    "executionInfo": {
     "elapsed": 493,
     "status": "ok",
     "timestamp": 1720291620569,
     "user": {
      "displayName": "Dhruv Gupta",
      "userId": "01321120305062122218"
     },
     "user_tz": -330
    },
    "id": "0oZLWMjBqcgi",
    "outputId": "bf86d0b9-d891-43c0-99a0-4137bb775922"
   },
   "outputs": [
    {
     "name": "stdout",
     "output_type": "stream",
     "text": [
      "its copy of original array: [ 1  2  3  4  5  6  7  8  9 10]\n",
      "after modifying an element in copy, copy_arr : [      1 9090908       3       4       5       6       7       8       9\n",
      "      10]\n",
      "after modifying its copy, original array will become: [ 1  2  3  4  5  6  7  8  9 10]\n",
      "copy_arr does not affect arr1\n"
     ]
    }
   ],
   "source": [
    "arr1=np.arange(1,11)\n",
    "copy_arr=arr1.copy()\n",
    "print('its copy of original array:',copy_arr)\n",
    "copy_arr[1]=9090908\n",
    "print('after modifying an element in copy, copy_arr :',copy_arr)\n",
    "print('after modifying its copy, original array will become:',arr1)\n",
    "print('copy_arr does not affect arr1')\n"
   ]
  },
  {
   "cell_type": "markdown",
   "metadata": {
    "id": "H2Iu448W_8Gv"
   },
   "source": [
    "# Q.77 Create a 2D NumPy array `matrix` of shape (3, 3) with random integers. Extract a slice `view_slice` from the matrix. Modify an element in `view_slice` and observe if it changes the original `matrix`."
   ]
  },
  {
   "cell_type": "code",
   "execution_count": null,
   "metadata": {
    "colab": {
     "base_uri": "https://localhost:8080/"
    },
    "executionInfo": {
     "elapsed": 653,
     "status": "ok",
     "timestamp": 1720291137072,
     "user": {
      "displayName": "Dhruv Gupta",
      "userId": "01321120305062122218"
     },
     "user_tz": -330
    },
    "id": "HrkglJ8R_7GV",
    "outputId": "b755d13e-d6fa-4ca8-cb55-e8e9770f1f92"
   },
   "outputs": [
    {
     "name": "stdout",
     "output_type": "stream",
     "text": [
      "original array before modification: [[74 95 38]\n",
      " [92 58 54]\n",
      " [55 83 88]]\n",
      "a slice from original array: [[95]\n",
      " [58]]\n",
      "a slice after mdifying a element [[   95]\n",
      " [45004]]\n",
      "original array after modification  [[   74    95    38]\n",
      " [   92 45004    54]\n",
      " [   55    83    88]]\n",
      "it changes the original matrix\n"
     ]
    }
   ],
   "source": [
    "matrix=np.random.randint(20,100,(3,3))\n",
    "print('original array before modification:',matrix)\n",
    "view_slice=matrix[:2,1:2]\n",
    "print('a slice from original array:',view_slice)\n",
    "view_slice[1,0]=45004\n",
    "print('a slice after mdifying a element',view_slice)\n",
    "print('original array after modification ',matrix)\n",
    "print('it changes the original matrix')\n",
    "\n"
   ]
  },
  {
   "cell_type": "markdown",
   "metadata": {
    "id": "JFaowpNRAPMF"
   },
   "source": [
    "# Q.78 Create a NumPy array `array_a` of shape (4, 3) with sequential integers from 1 to 12. Extract a slice `view_b` from `array_a` and broadcast the addition of 5 to view_b. Check if it alters the original `array_a`."
   ]
  },
  {
   "cell_type": "code",
   "execution_count": null,
   "metadata": {
    "colab": {
     "base_uri": "https://localhost:8080/"
    },
    "executionInfo": {
     "elapsed": 653,
     "status": "ok",
     "timestamp": 1720286386201,
     "user": {
      "displayName": "Dhruv Gupta",
      "userId": "01321120305062122218"
     },
     "user_tz": -330
    },
    "id": "D7SpO_aUAOkf",
    "outputId": "c234de44-a0b5-43fb-891e-493f1221b68e"
   },
   "outputs": [
    {
     "name": "stdout",
     "output_type": "stream",
     "text": [
      "broadcasted array is: [[ 6  7]\n",
      " [ 9 10]]\n",
      "original array: [[ 1  2  3]\n",
      " [ 4  5  6]\n",
      " [ 7  8  9]\n",
      " [10 11 12]]\n",
      "[[1 2]\n",
      " [4 5]]\n"
     ]
    }
   ],
   "source": [
    "r=np.arange(1,13)\n",
    "array_a=r.reshape(4,3)\n",
    "view_b=array_a[:2,:2]\n",
    "print('broadcasted array is:',view_b+5)\n",
    "print('original array:',array_a)\n"
   ]
  },
  {
   "cell_type": "markdown",
   "metadata": {
    "id": "yetiIFmFCCWg"
   },
   "source": [
    "# Q.79  Create a NumPy array `orig_array` of shape (2, 4) with values from 1 to 8. Create a reshaped view `reshaped_view` of shape (4, 2) from orig_array. Modify an element in `reshaped_view` and check if it reflects changes in the original `orig_array"
   ]
  },
  {
   "cell_type": "code",
   "execution_count": null,
   "metadata": {
    "colab": {
     "base_uri": "https://localhost:8080/"
    },
    "executionInfo": {
     "elapsed": 5,
     "status": "ok",
     "timestamp": 1720286803887,
     "user": {
      "displayName": "Dhruv Gupta",
      "userId": "01321120305062122218"
     },
     "user_tz": -330
    },
    "id": "gY6BpEcqAm5b",
    "outputId": "fb47a3d7-cbeb-4dd9-bec4-37e1be77b83e"
   },
   "outputs": [
    {
     "name": "stdout",
     "output_type": "stream",
     "text": [
      "orig_array of shape (2,4): [[1 2 3 4]\n",
      " [5 6 7 8]]\n",
      "reshaped_view is: [[1 2]\n",
      " [3 4]\n",
      " [5 6]\n",
      " [7 8]]\n",
      "after modify an element in reshaped_view , the orig_array is: [[12  2  3  4]\n",
      " [ 5  6  7  8]]\n",
      "yes, it reflects changes in original orig_array\n"
     ]
    }
   ],
   "source": [
    "orig_array=np.arange(1,9).reshape(2,4)\n",
    "print('orig_array of shape (2,4):',orig_array)\n",
    "reshaped_view=orig_array.reshape(4,2)\n",
    "print('reshaped_view is:',reshaped_view)\n",
    "reshaped_view[0,0]=12\n",
    "\n",
    "print('after modify an element in reshaped_view , the orig_array is:',orig_array)\n",
    "print('yes, it reflects changes in original orig_array')"
   ]
  },
  {
   "cell_type": "markdown",
   "metadata": {
    "id": "wexohvdBFayS"
   },
   "source": [
    "# Q.80 Create a NumPy array `data` of shape (3, 4) with random integers. Extract a copy `data_copy` of elements greater than 5. Modify an element in `data_copy` and verify if it affects the original `data`.\n"
   ]
  },
  {
   "cell_type": "code",
   "execution_count": null,
   "metadata": {
    "colab": {
     "base_uri": "https://localhost:8080/"
    },
    "executionInfo": {
     "elapsed": 560,
     "status": "ok",
     "timestamp": 1720289230884,
     "user": {
      "displayName": "Dhruv Gupta",
      "userId": "01321120305062122218"
     },
     "user_tz": -330
    },
    "id": "4p3KRRYiEZnl",
    "outputId": "264f2c43-87e2-4393-d621-c75bea857749"
   },
   "outputs": [
    {
     "name": "stdout",
     "output_type": "stream",
     "text": [
      "data_copy of elements greater than 5 is: [[39 74  9 47]\n",
      " [45 63 71 95]\n",
      " [10 85 76 49]]\n",
      "after modify an element in data_copy, data_copy is: [[  39   74    9   47]\n",
      " [  45   63 1000   95]\n",
      " [  10   85   76   49]]\n",
      "after modification original data is: [[39 74  9 47]\n",
      " [45 63 71 95]\n",
      " [10 85 76 49]]\n",
      "it does not affects the original data\n"
     ]
    }
   ],
   "source": [
    "data=np.random.randint(2,100,(3,4))\n",
    "\n",
    "\n",
    "datacopy=np.extract(data>5,data)\n",
    "data_copy=datacopy.reshape(3,4)\n",
    "print('data_copy of elements greater than 5 is:',np.array(data_copy))\n",
    "data_copy[1,2]=1000\n",
    "print('after modify an element in data_copy, data_copy is:',data_copy)\n",
    "print('after modification original data is:',data)\n",
    "print('it does not affects the original data')\n"
   ]
  },
  {
   "cell_type": "markdown",
   "metadata": {
    "id": "-oAe2aa-INHI"
   },
   "source": [
    "# Q.81 Create two matrices A and B of identical shape containing integers and perform addition and subtraction operations between them."
   ]
  },
  {
   "cell_type": "code",
   "execution_count": null,
   "metadata": {
    "colab": {
     "base_uri": "https://localhost:8080/"
    },
    "executionInfo": {
     "elapsed": 555,
     "status": "ok",
     "timestamp": 1720287735901,
     "user": {
      "displayName": "Dhruv Gupta",
      "userId": "01321120305062122218"
     },
     "user_tz": -330
    },
    "id": "Z6aHbzhAHZa_",
    "outputId": "8c4bff95-d31e-4074-8b4d-1868b5c19295"
   },
   "outputs": [
    {
     "name": "stdout",
     "output_type": "stream",
     "text": [
      "addition of both matrices : [[ 7 17]]\n",
      "subtraction of both matrices: [[-5 -3]]\n"
     ]
    }
   ],
   "source": [
    "mat1=np.matrix([1,7])\n",
    "mat2=np.matrix([6,10])\n",
    "print('addition of both matrices :',mat1+mat2)\n",
    "print('subtraction of both matrices:',mat1-mat2)"
   ]
  },
  {
   "cell_type": "markdown",
   "metadata": {
    "id": "7zEmI2NYI_Ma"
   },
   "source": [
    "# Q.82  Generate two matrices `C` (3x2) and `D` (2x4) and perform matrix multiplication."
   ]
  },
  {
   "cell_type": "code",
   "execution_count": null,
   "metadata": {
    "colab": {
     "base_uri": "https://localhost:8080/"
    },
    "executionInfo": {
     "elapsed": 1106,
     "status": "ok",
     "timestamp": 1720288182378,
     "user": {
      "displayName": "Dhruv Gupta",
      "userId": "01321120305062122218"
     },
     "user_tz": -330
    },
    "id": "G8A3jwICIkD_",
    "outputId": "ab038ae6-3b70-48e8-edcd-1a116e335649"
   },
   "outputs": [
    {
     "data": {
      "text/plain": [
       "matrix([[ 18,  23,  12,  14],\n",
       "        [ 68, 103,  42,  69],\n",
       "        [ 50, 109,  24,  84]])"
      ]
     },
     "execution_count": 58,
     "metadata": {},
     "output_type": "execute_result"
    }
   ],
   "source": [
    "c=np.matrix([[1,2],\n",
    "            [6,7],\n",
    "            [9,4]])\n",
    "d=np.matrix([[2,9,0,8],\n",
    "            [8,7,6,3]])\n",
    "c@d#matrix multiplication"
   ]
  },
  {
   "cell_type": "markdown",
   "metadata": {
    "id": "a5tXIxOLKvTv"
   },
   "source": [
    "# Q.83 Create a matrix `E` and find its transpose."
   ]
  },
  {
   "cell_type": "code",
   "execution_count": null,
   "metadata": {
    "colab": {
     "base_uri": "https://localhost:8080/"
    },
    "executionInfo": {
     "elapsed": 446,
     "status": "ok",
     "timestamp": 1720312140509,
     "user": {
      "displayName": "Dhruv Gupta",
      "userId": "01321120305062122218"
     },
     "user_tz": -330
    },
    "id": "WFHRUm6rKgBz",
    "outputId": "cc561b9f-6588-44ce-bdb8-11a1bb02e50f"
   },
   "outputs": [
    {
     "name": "stdout",
     "output_type": "stream",
     "text": [
      "transpose of given matrix is: [[2 8]\n",
      " [9 7]\n",
      " [0 6]\n",
      " [8 3]]\n"
     ]
    }
   ],
   "source": [
    "E=np.matrix([[2,9,0,8],\n",
    "            [8,7,6,3]])\n",
    "print('transpose of given matrix is:',E.T)#transpose"
   ]
  },
  {
   "cell_type": "markdown",
   "metadata": {
    "id": "heSazxejLLYT"
   },
   "source": [
    "# Q.84 Generate a square matrix `F` and compute its determinant.\n"
   ]
  },
  {
   "cell_type": "code",
   "execution_count": null,
   "metadata": {
    "colab": {
     "base_uri": "https://localhost:8080/"
    },
    "executionInfo": {
     "elapsed": 491,
     "status": "ok",
     "timestamp": 1720312187576,
     "user": {
      "displayName": "Dhruv Gupta",
      "userId": "01321120305062122218"
     },
     "user_tz": -330
    },
    "id": "bcNLZL0OLBpG",
    "outputId": "f2824410-e99c-4b4b-a0f2-d821b6d018d1"
   },
   "outputs": [
    {
     "name": "stdout",
     "output_type": "stream",
     "text": [
      "determinant of given square matrix is: -5\n"
     ]
    }
   ],
   "source": [
    "F=np.matrix([[1,2],\n",
    "            [6,7]])\n",
    "print('determinant of given square matrix is:',int(np.linalg.det(F)))"
   ]
  },
  {
   "cell_type": "markdown",
   "metadata": {
    "id": "sDg8wlt-MN89"
   },
   "source": [
    "# Q.85 Create a square matrix `G` and find its inverse.\n"
   ]
  },
  {
   "cell_type": "code",
   "execution_count": null,
   "metadata": {
    "colab": {
     "base_uri": "https://localhost:8080/"
    },
    "executionInfo": {
     "elapsed": 676,
     "status": "ok",
     "timestamp": 1720312222368,
     "user": {
      "displayName": "Dhruv Gupta",
      "userId": "01321120305062122218"
     },
     "user_tz": -330
    },
    "id": "JMvx4XV1Lkjc",
    "outputId": "698bff2b-4bd6-4f5b-d124-ffef08886fdc"
   },
   "outputs": [
    {
     "name": "stdout",
     "output_type": "stream",
     "text": [
      "inverse of given matrix is: [[-1.4  0.4]\n",
      " [ 1.2 -0.2]]\n"
     ]
    }
   ],
   "source": [
    "G=np.matrix([[1,2],\n",
    "            [6,7]])\n",
    "print('inverse of given matrix is:',np.linalg.inv(G))"
   ]
  }
 ],
 "metadata": {
  "colab": {
   "authorship_tag": "ABX9TyNbaCcC0tTWth3P3LoqUKFd",
   "provenance": []
  },
  "kernelspec": {
   "display_name": "Python 3 (ipykernel)",
   "language": "python",
   "name": "python3"
  },
  "language_info": {
   "codemirror_mode": {
    "name": "ipython",
    "version": 3
   },
   "file_extension": ".py",
   "mimetype": "text/x-python",
   "name": "python",
   "nbconvert_exporter": "python",
   "pygments_lexer": "ipython3",
   "version": "3.10.8"
  }
 },
 "nbformat": 4,
 "nbformat_minor": 4
}
